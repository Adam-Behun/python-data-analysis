{
 "cells": [
  {
   "cell_type": "markdown",
   "id": "12365c98-d7e5-4e43-984a-6d1c3ff5695b",
   "metadata": {},
   "source": [
    "# Introduction to pandas data structures - Series and DataFrame"
   ]
  },
  {
   "cell_type": "code",
   "execution_count": 8,
   "id": "a479bba6-702f-450d-98f9-dd60369d7219",
   "metadata": {},
   "outputs": [],
   "source": [
    "# most used for data analysis and manipulation\n",
    "import pandas as pd"
   ]
  },
  {
   "cell_type": "markdown",
   "id": "0b5df89e-d05b-4372-a949-adf0f85e7062",
   "metadata": {},
   "source": [
    "# Pandas Series"
   ]
  },
  {
   "cell_type": "code",
   "execution_count": 9,
   "id": "e7a9bff9-ea89-49c6-81a8-c682c0ea3c94",
   "metadata": {},
   "outputs": [],
   "source": [
    "# s is a variable name storing a pandas Series data structure\n",
    "# Pandas Series data structure is a 1D array storing any data type\n",
    "# s stores a list of integers\n",
    "s = pd.Series([1,2,3,4,5,6,7])"
   ]
  },
  {
   "cell_type": "code",
   "execution_count": 10,
   "id": "dc7b9f55-0127-4eff-b3d2-53007f3bd363",
   "metadata": {},
   "outputs": [
    {
     "data": {
      "text/plain": [
       "0    1\n",
       "1    2\n",
       "2    3\n",
       "3    4\n",
       "4    5\n",
       "5    6\n",
       "6    7\n",
       "dtype: int64"
      ]
     },
     "execution_count": 10,
     "metadata": {},
     "output_type": "execute_result"
    }
   ],
   "source": [
    "s"
   ]
  },
  {
   "cell_type": "code",
   "execution_count": 11,
   "id": "6d174c72-fa6c-4c02-abd9-8047f532bb43",
   "metadata": {},
   "outputs": [],
   "source": [
    "# index_day is a variable name storing a list of strings\n",
    "index_day=['Monday', 'Tuesday', 'Wednesday', 'Thursday', 'Friday', 'Saturday', 'Sunday']\n",
    "\n",
    "# data is a variable name storing a list of integers\n",
    "data=[1,2,3,4,5,6,7]"
   ]
  },
  {
   "cell_type": "code",
   "execution_count": 12,
   "id": "a027e1bb-cd10-4298-9270-19b2fde3bc94",
   "metadata": {},
   "outputs": [
    {
     "data": {
      "text/plain": [
       "Monday       1\n",
       "Tuesday      2\n",
       "Wednesday    3\n",
       "Thursday     4\n",
       "Friday       5\n",
       "Saturday     6\n",
       "Sunday       7\n",
       "dtype: int64"
      ]
     },
     "execution_count": 12,
     "metadata": {},
     "output_type": "execute_result"
    }
   ],
   "source": [
    "# construct a pandas Series data structure (1D array storing any data type)\n",
    "# pass in data and index_day as parameters\n",
    "s=pd.Series(data, index=index_day)\n",
    "\n",
    "# print the newly constructed pandas Series\n",
    "s"
   ]
  },
  {
   "cell_type": "code",
   "execution_count": 21,
   "id": "744ebe96-83c2-48bb-8d33-ba8ac2adc89f",
   "metadata": {},
   "outputs": [
    {
     "data": {
      "text/plain": [
       "7"
      ]
     },
     "execution_count": 21,
     "metadata": {},
     "output_type": "execute_result"
    }
   ],
   "source": [
    "# Get number 7 from the pandas Series in three ways\n",
    "s[-1]\n",
    "# s[6]\n",
    "# s['Sunday']"
   ]
  },
  {
   "cell_type": "code",
   "execution_count": 22,
   "id": "50eb7512-f5c8-4fed-8a03-940f89263939",
   "metadata": {},
   "outputs": [
    {
     "data": {
      "text/plain": [
       "4.0"
      ]
     },
     "execution_count": 22,
     "metadata": {},
     "output_type": "execute_result"
    }
   ],
   "source": [
    "# s is numeric because the index is not the data being stored\n",
    "s.mean()"
   ]
  },
  {
   "cell_type": "code",
   "execution_count": 23,
   "id": "ace7bc7d-d783-49a8-ba27-ed758f47f015",
   "metadata": {},
   "outputs": [],
   "source": [
    "s['Sunday'] = 8"
   ]
  },
  {
   "cell_type": "code",
   "execution_count": 26,
   "id": "eacf3173-1ef5-4907-bff9-56d254a01327",
   "metadata": {},
   "outputs": [
    {
     "data": {
      "text/plain": [
       "4.142857142857143"
      ]
     },
     "execution_count": 26,
     "metadata": {},
     "output_type": "execute_result"
    }
   ],
   "source": [
    "s.mean()"
   ]
  },
  {
   "cell_type": "markdown",
   "id": "4e27d973-38ab-472b-bffd-27680987045d",
   "metadata": {},
   "source": [
    "# Pandas DataFrame"
   ]
  },
  {
   "cell_type": "code",
   "execution_count": 30,
   "id": "7f2d5df1-3ff2-4acb-bc40-6457715a7a4d",
   "metadata": {},
   "outputs": [
    {
     "data": {
      "text/html": [
       "<div>\n",
       "<style scoped>\n",
       "    .dataframe tbody tr th:only-of-type {\n",
       "        vertical-align: middle;\n",
       "    }\n",
       "\n",
       "    .dataframe tbody tr th {\n",
       "        vertical-align: top;\n",
       "    }\n",
       "\n",
       "    .dataframe thead th {\n",
       "        text-align: right;\n",
       "    }\n",
       "</style>\n",
       "<table border=\"1\" class=\"dataframe\">\n",
       "  <thead>\n",
       "    <tr style=\"text-align: right;\">\n",
       "      <th></th>\n",
       "      <th>first</th>\n",
       "      <th>second</th>\n",
       "    </tr>\n",
       "  </thead>\n",
       "  <tbody>\n",
       "    <tr>\n",
       "      <th>Monday</th>\n",
       "      <td>1</td>\n",
       "      <td>2</td>\n",
       "    </tr>\n",
       "    <tr>\n",
       "      <th>Tuesday</th>\n",
       "      <td>2</td>\n",
       "      <td>4</td>\n",
       "    </tr>\n",
       "    <tr>\n",
       "      <th>Wednesday</th>\n",
       "      <td>3</td>\n",
       "      <td>6</td>\n",
       "    </tr>\n",
       "    <tr>\n",
       "      <th>Thursday</th>\n",
       "      <td>4</td>\n",
       "      <td>8</td>\n",
       "    </tr>\n",
       "    <tr>\n",
       "      <th>Friday</th>\n",
       "      <td>5</td>\n",
       "      <td>10</td>\n",
       "    </tr>\n",
       "    <tr>\n",
       "      <th>Saturday</th>\n",
       "      <td>6</td>\n",
       "      <td>12</td>\n",
       "    </tr>\n",
       "    <tr>\n",
       "      <th>Sunday</th>\n",
       "      <td>8</td>\n",
       "      <td>16</td>\n",
       "    </tr>\n",
       "  </tbody>\n",
       "</table>\n",
       "</div>"
      ],
      "text/plain": [
       "           first  second\n",
       "Monday         1       2\n",
       "Tuesday        2       4\n",
       "Wednesday      3       6\n",
       "Thursday       4       8\n",
       "Friday         5      10\n",
       "Saturday       6      12\n",
       "Sunday         8      16"
      ]
     },
     "execution_count": 30,
     "metadata": {},
     "output_type": "execute_result"
    }
   ],
   "source": [
    "df = pd.DataFrame({'first':s, 'second' :s*2})\n",
    "df"
   ]
  },
  {
   "cell_type": "code",
   "execution_count": 32,
   "id": "febcb53b-b34b-4dfb-b4b8-c5efc96cc844",
   "metadata": {},
   "outputs": [],
   "source": [
    "# lists of strings\n",
    "column_names = ['city', 'population']\n",
    "index_country = ['Japan', 'India', 'China', 'Brazil', 'Mexico']"
   ]
  },
  {
   "cell_type": "code",
   "execution_count": 33,
   "id": "7de8e280-54cc-485b-9ec0-9f1d3f98d1bf",
   "metadata": {},
   "outputs": [],
   "source": [
    "# lists of strings and doubles\n",
    "row1=['Tokyo', 37.4]\n",
    "row2=['Delhi', 28.5]\n",
    "row3=['Shanghai', 25.6]\n",
    "row4=['Sao Paulo', 21.7]\n",
    "row5=['Mexico City', 21.6]"
   ]
  },
  {
   "cell_type": "code",
   "execution_count": 34,
   "id": "5a929291-7de2-4761-adfd-14dba7c695c1",
   "metadata": {},
   "outputs": [
    {
     "data": {
      "text/plain": [
       "[['Tokyo', 37.4],\n",
       " ['Delhi', 28.5],\n",
       " ['Shanghai', 25.6],\n",
       " ['Sao Paulo', 21.7],\n",
       " ['Mexico City', 21.6]]"
      ]
     },
     "execution_count": 34,
     "metadata": {},
     "output_type": "execute_result"
    }
   ],
   "source": [
    "# data is a list of lists \n",
    "data=[row1, row2, row3, row4, row5]\n",
    "data"
   ]
  },
  {
   "cell_type": "code",
   "execution_count": 36,
   "id": "432726d0-f4de-497a-8172-c6bdf3cb8095",
   "metadata": {},
   "outputs": [
    {
     "data": {
      "text/html": [
       "<div>\n",
       "<style scoped>\n",
       "    .dataframe tbody tr th:only-of-type {\n",
       "        vertical-align: middle;\n",
       "    }\n",
       "\n",
       "    .dataframe tbody tr th {\n",
       "        vertical-align: top;\n",
       "    }\n",
       "\n",
       "    .dataframe thead th {\n",
       "        text-align: right;\n",
       "    }\n",
       "</style>\n",
       "<table border=\"1\" class=\"dataframe\">\n",
       "  <thead>\n",
       "    <tr style=\"text-align: right;\">\n",
       "      <th></th>\n",
       "      <th>city</th>\n",
       "      <th>population</th>\n",
       "    </tr>\n",
       "  </thead>\n",
       "  <tbody>\n",
       "    <tr>\n",
       "      <th>Japan</th>\n",
       "      <td>Tokyo</td>\n",
       "      <td>37.4</td>\n",
       "    </tr>\n",
       "    <tr>\n",
       "      <th>India</th>\n",
       "      <td>Delhi</td>\n",
       "      <td>28.5</td>\n",
       "    </tr>\n",
       "    <tr>\n",
       "      <th>China</th>\n",
       "      <td>Shanghai</td>\n",
       "      <td>25.6</td>\n",
       "    </tr>\n",
       "    <tr>\n",
       "      <th>Brazil</th>\n",
       "      <td>Sao Paulo</td>\n",
       "      <td>21.7</td>\n",
       "    </tr>\n",
       "    <tr>\n",
       "      <th>Mexico</th>\n",
       "      <td>Mexico City</td>\n",
       "      <td>21.6</td>\n",
       "    </tr>\n",
       "  </tbody>\n",
       "</table>\n",
       "</div>"
      ],
      "text/plain": [
       "               city  population\n",
       "Japan         Tokyo        37.4\n",
       "India         Delhi        28.5\n",
       "China      Shanghai        25.6\n",
       "Brazil    Sao Paulo        21.7\n",
       "Mexico  Mexico City        21.6"
      ]
     },
     "execution_count": 36,
     "metadata": {},
     "output_type": "execute_result"
    }
   ],
   "source": [
    "# df is a 2D pandas data structure\n",
    "# pass in data (list of lists), index (y-axis), columns (x-axis)\n",
    "df = pd.DataFrame(data, index=index_country, columns=column_names)\n",
    "df"
   ]
  },
  {
   "cell_type": "code",
   "execution_count": 42,
   "id": "e279c8b5-dec5-4cb3-a200-1d1416222f73",
   "metadata": {},
   "outputs": [],
   "source": [
    "# list of strings\n",
    "cities = ['Tokyo', 'Delhi', 'Shanghai', 'Sao Paulo', 'Mexico City']\n",
    "\n",
    "# list of floating-point numbers\n",
    "population = [37.4, 28.5, 25.6, 21.7, 21.6]"
   ]
  },
  {
   "cell_type": "code",
   "execution_count": 43,
   "id": "f4df19e7-a614-4023-846c-17f27785f7fa",
   "metadata": {},
   "outputs": [
    {
     "data": {
      "text/plain": [
       "{'city': ['Tokyo', 'Delhi', 'Shanghai', 'Sao Paulo', 'Mexico City'],\n",
       " 'population': [37.4, 28.5, 25.6, 21.7, 21.6]}"
      ]
     },
     "execution_count": 43,
     "metadata": {},
     "output_type": "execute_result"
    }
   ],
   "source": [
    "# Python dictionary goes through the two lists and matches city with its population\n",
    "dict_popu={'city' :cities, 'population' : population}\n",
    "dict_popu"
   ]
  },
  {
   "cell_type": "code",
   "execution_count": 45,
   "id": "93cbeddb-e9bf-47ef-9a11-33496a2d1636",
   "metadata": {},
   "outputs": [
    {
     "data": {
      "text/html": [
       "<div>\n",
       "<style scoped>\n",
       "    .dataframe tbody tr th:only-of-type {\n",
       "        vertical-align: middle;\n",
       "    }\n",
       "\n",
       "    .dataframe tbody tr th {\n",
       "        vertical-align: top;\n",
       "    }\n",
       "\n",
       "    .dataframe thead th {\n",
       "        text-align: right;\n",
       "    }\n",
       "</style>\n",
       "<table border=\"1\" class=\"dataframe\">\n",
       "  <thead>\n",
       "    <tr style=\"text-align: right;\">\n",
       "      <th></th>\n",
       "      <th>city</th>\n",
       "      <th>population</th>\n",
       "    </tr>\n",
       "  </thead>\n",
       "  <tbody>\n",
       "    <tr>\n",
       "      <th>Japan</th>\n",
       "      <td>Tokyo</td>\n",
       "      <td>37.4</td>\n",
       "    </tr>\n",
       "    <tr>\n",
       "      <th>India</th>\n",
       "      <td>Delhi</td>\n",
       "      <td>28.5</td>\n",
       "    </tr>\n",
       "    <tr>\n",
       "      <th>China</th>\n",
       "      <td>Shanghai</td>\n",
       "      <td>25.6</td>\n",
       "    </tr>\n",
       "    <tr>\n",
       "      <th>Brazil</th>\n",
       "      <td>Sao Paulo</td>\n",
       "      <td>21.7</td>\n",
       "    </tr>\n",
       "    <tr>\n",
       "      <th>Mexico</th>\n",
       "      <td>Mexico City</td>\n",
       "      <td>21.6</td>\n",
       "    </tr>\n",
       "  </tbody>\n",
       "</table>\n",
       "</div>"
      ],
      "text/plain": [
       "               city  population\n",
       "Japan         Tokyo        37.4\n",
       "India         Delhi        28.5\n",
       "China      Shanghai        25.6\n",
       "Brazil    Sao Paulo        21.7\n",
       "Mexico  Mexico City        21.6"
      ]
     },
     "execution_count": 45,
     "metadata": {},
     "output_type": "execute_result"
    }
   ],
   "source": [
    "# pass into the DataFrame the dictionary and the list countries\n",
    "# DataFrame is a table\n",
    "df = pd.DataFrame(dict_popu, index = index_country)\n",
    "df"
   ]
  },
  {
   "cell_type": "code",
   "execution_count": 46,
   "id": "6ac959c4-efc6-45ff-8a0a-85771deca965",
   "metadata": {},
   "outputs": [
    {
     "data": {
      "text/plain": [
       "Japan           Tokyo\n",
       "India           Delhi\n",
       "China        Shanghai\n",
       "Brazil      Sao Paulo\n",
       "Mexico    Mexico City\n",
       "Name: city, dtype: object"
      ]
     },
     "execution_count": 46,
     "metadata": {},
     "output_type": "execute_result"
    }
   ],
   "source": [
    "# city is the keys column of the dictionary dict_popu\n",
    "df['city']"
   ]
  }
 ],
 "metadata": {
  "kernelspec": {
   "display_name": "Python 3 (ipykernel)",
   "language": "python",
   "name": "python3"
  },
  "language_info": {
   "codemirror_mode": {
    "name": "ipython",
    "version": 3
   },
   "file_extension": ".py",
   "mimetype": "text/x-python",
   "name": "python",
   "nbconvert_exporter": "python",
   "pygments_lexer": "ipython3",
   "version": "3.9.13"
  }
 },
 "nbformat": 4,
 "nbformat_minor": 5
}
