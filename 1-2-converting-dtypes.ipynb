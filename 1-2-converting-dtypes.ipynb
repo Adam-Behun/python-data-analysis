{
 "cells": [
  {
   "cell_type": "markdown",
   "id": "5b89fe13-394b-4738-a631-e6045bc16447",
   "metadata": {},
   "source": [
    "# Converting data types"
   ]
  },
  {
   "cell_type": "code",
   "execution_count": 1,
   "id": "0e123956-4b04-4a83-ba3a-cbe0d2405a8f",
   "metadata": {},
   "outputs": [],
   "source": [
    "import pandas as pd"
   ]
  },
  {
   "cell_type": "code",
   "execution_count": 3,
   "id": "10f8aad8-6cac-454d-82e2-9d0493ccbf3f",
   "metadata": {},
   "outputs": [],
   "source": [
    "# working with the weather.csv, now read into pandas DataFrame (2D table)\n",
    "weather=pd.read_csv('weather.csv')"
   ]
  },
  {
   "cell_type": "code",
   "execution_count": 6,
   "id": "75a0ccf2-ef49-4652-8e96-0996f1df1149",
   "metadata": {},
   "outputs": [
    {
     "name": "stdout",
     "output_type": "stream",
     "text": [
      "<class 'pandas.core.frame.DataFrame'>\n",
      "RangeIndex: 5 entries, 0 to 4\n",
      "Data columns (total 7 columns):\n",
      " #   Column            Non-Null Count  Dtype  \n",
      "---  ------            --------------  -----  \n",
      " 0   date              5 non-null      object \n",
      " 1   temperature_high  5 non-null      float64\n",
      " 2   temperature_low   5 non-null      object \n",
      " 3   rained            5 non-null      int64  \n",
      " 4   snowed            5 non-null      bool   \n",
      " 5   overcast          5 non-null      object \n",
      " 6   comments          5 non-null      object \n",
      "dtypes: bool(1), float64(1), int64(1), object(4)\n",
      "memory usage: 373.0+ bytes\n"
     ]
    }
   ],
   "source": [
    "# shows columns, dtypes, and non-null count\n",
    "weather.info()"
   ]
  },
  {
   "cell_type": "code",
   "execution_count": 8,
   "id": "556c031a-6cd1-4d16-ace9-fb3484a488a9",
   "metadata": {},
   "outputs": [
    {
     "data": {
      "text/plain": [
       "Index(['date', 'temperature_high', 'temperature_low', 'rained', 'snowed',\n",
       "       'overcast', 'comments'],\n",
       "      dtype='object')"
      ]
     },
     "execution_count": 8,
     "metadata": {},
     "output_type": "execute_result"
    }
   ],
   "source": [
    "weather.columns"
   ]
  },
  {
   "cell_type": "code",
   "execution_count": 10,
   "id": "2cb4436e-c249-4511-b5f6-ac8114cf39b8",
   "metadata": {},
   "outputs": [
    {
     "data": {
      "text/html": [
       "<div>\n",
       "<style scoped>\n",
       "    .dataframe tbody tr th:only-of-type {\n",
       "        vertical-align: middle;\n",
       "    }\n",
       "\n",
       "    .dataframe tbody tr th {\n",
       "        vertical-align: top;\n",
       "    }\n",
       "\n",
       "    .dataframe thead th {\n",
       "        text-align: right;\n",
       "    }\n",
       "</style>\n",
       "<table border=\"1\" class=\"dataframe\">\n",
       "  <thead>\n",
       "    <tr style=\"text-align: right;\">\n",
       "      <th></th>\n",
       "      <th>date</th>\n",
       "      <th>temperature_high</th>\n",
       "      <th>temperature_low</th>\n",
       "      <th>rained</th>\n",
       "      <th>snowed</th>\n",
       "      <th>overcast</th>\n",
       "      <th>comments</th>\n",
       "    </tr>\n",
       "  </thead>\n",
       "  <tbody>\n",
       "    <tr>\n",
       "      <th>0</th>\n",
       "      <td>2021-01-01</td>\n",
       "      <td>4.0</td>\n",
       "      <td>1</td>\n",
       "      <td>1</td>\n",
       "      <td>False</td>\n",
       "      <td>cloudy</td>\n",
       "      <td>happy new year</td>\n",
       "    </tr>\n",
       "    <tr>\n",
       "      <th>1</th>\n",
       "      <td>2021-01-02</td>\n",
       "      <td>11.0</td>\n",
       "      <td>2</td>\n",
       "      <td>0</td>\n",
       "      <td>False</td>\n",
       "      <td>sunny</td>\n",
       "      <td>second day</td>\n",
       "    </tr>\n",
       "    <tr>\n",
       "      <th>2</th>\n",
       "      <td>2021-01-03</td>\n",
       "      <td>3.0</td>\n",
       "      <td>2</td>\n",
       "      <td>0</td>\n",
       "      <td>False</td>\n",
       "      <td>foggy</td>\n",
       "      <td>third day</td>\n",
       "    </tr>\n",
       "    <tr>\n",
       "      <th>3</th>\n",
       "      <td>2021-01-04</td>\n",
       "      <td>6.0</td>\n",
       "      <td>2</td>\n",
       "      <td>0</td>\n",
       "      <td>False</td>\n",
       "      <td>sunny</td>\n",
       "      <td>first business day</td>\n",
       "    </tr>\n",
       "    <tr>\n",
       "      <th>4</th>\n",
       "      <td>2021-01-05</td>\n",
       "      <td>4.0</td>\n",
       "      <td>unknown</td>\n",
       "      <td>0</td>\n",
       "      <td>False</td>\n",
       "      <td>cloudy</td>\n",
       "      <td>second business day</td>\n",
       "    </tr>\n",
       "  </tbody>\n",
       "</table>\n",
       "</div>"
      ],
      "text/plain": [
       "         date  temperature_high temperature_low  rained  snowed overcast  \\\n",
       "0  2021-01-01               4.0               1       1   False   cloudy   \n",
       "1  2021-01-02              11.0               2       0   False    sunny   \n",
       "2  2021-01-03               3.0               2       0   False    foggy   \n",
       "3  2021-01-04               6.0               2       0   False    sunny   \n",
       "4  2021-01-05               4.0         unknown       0   False   cloudy   \n",
       "\n",
       "              comments  \n",
       "0       happy new year  \n",
       "1           second day  \n",
       "2            third day  \n",
       "3   first business day  \n",
       "4  second business day  "
      ]
     },
     "execution_count": 10,
     "metadata": {},
     "output_type": "execute_result"
    }
   ],
   "source": [
    "weather.head(10)"
   ]
  },
  {
   "cell_type": "markdown",
   "id": "7c82e76d-a11b-48d9-9d7c-e47e0f786b9d",
   "metadata": {},
   "source": [
    "# Convert the default data types from this"
   ]
  },
  {
   "cell_type": "code",
   "execution_count": 13,
   "id": "87cff924-509d-45d1-b571-df219f0e88a3",
   "metadata": {},
   "outputs": [
    {
     "data": {
      "text/plain": [
       "date                 object\n",
       "temperature_high    float64\n",
       "temperature_low      object\n",
       "rained                int64\n",
       "snowed                 bool\n",
       "overcast             object\n",
       "comments             object\n",
       "dtype: object"
      ]
     },
     "execution_count": 13,
     "metadata": {},
     "output_type": "execute_result"
    }
   ],
   "source": [
    "weather.dtypes"
   ]
  },
  {
   "cell_type": "code",
   "execution_count": 16,
   "id": "6152b6be-058d-4aac-afde-a277edc39128",
   "metadata": {},
   "outputs": [],
   "source": [
    "# overwrite the current (temperature_high) values into int8 dtypes\n",
    "weather['temperature_high']=weather['temperature_high'].astype('int8')"
   ]
  },
  {
   "cell_type": "code",
   "execution_count": 17,
   "id": "a7d6cb85-7098-4b85-b697-e87fdb68eebc",
   "metadata": {},
   "outputs": [
    {
     "data": {
      "text/plain": [
       "date                object\n",
       "temperature_high      int8\n",
       "temperature_low     object\n",
       "rained               int64\n",
       "snowed                bool\n",
       "overcast            object\n",
       "comments            object\n",
       "dtype: object"
      ]
     },
     "execution_count": 17,
     "metadata": {},
     "output_type": "execute_result"
    }
   ],
   "source": [
    "weather.dtypes"
   ]
  },
  {
   "cell_type": "code",
   "execution_count": 18,
   "id": "2a213bf1-32c3-4f66-83d6-8c26c0f4c636",
   "metadata": {},
   "outputs": [],
   "source": [
    "# overwrites weather DataFrame at the 'rained' column to a bool dtypes\n",
    "weather['rained']=weather['rained'].astype('bool')"
   ]
  },
  {
   "cell_type": "code",
   "execution_count": 20,
   "id": "c04343b0-1b3a-4439-8883-d4cd9de7d6e8",
   "metadata": {},
   "outputs": [
    {
     "data": {
      "text/plain": [
       "date                object\n",
       "temperature_high      int8\n",
       "temperature_low     object\n",
       "rained                bool\n",
       "snowed                bool\n",
       "overcast            object\n",
       "comments            object\n",
       "dtype: object"
      ]
     },
     "execution_count": 20,
     "metadata": {},
     "output_type": "execute_result"
    }
   ],
   "source": [
    "weather.dtypes"
   ]
  },
  {
   "cell_type": "code",
   "execution_count": 21,
   "id": "359acf1a-6072-49d7-a322-75d6743fb32b",
   "metadata": {},
   "outputs": [
    {
     "data": {
      "text/plain": [
       "0     True\n",
       "1    False\n",
       "2    False\n",
       "3    False\n",
       "4    False\n",
       "Name: rained, dtype: bool"
      ]
     },
     "execution_count": 21,
     "metadata": {},
     "output_type": "execute_result"
    }
   ],
   "source": [
    "weather['rained']"
   ]
  },
  {
   "cell_type": "code",
   "execution_count": 24,
   "id": "f9cf2b67-13a0-4c70-b2c2-a5f3962815e4",
   "metadata": {},
   "outputs": [],
   "source": [
    "# convert using astype and dictionary as an argument\n",
    "weather=weather.astype({'overcast' : 'category', 'comments' : 'string'})"
   ]
  },
  {
   "cell_type": "code",
   "execution_count": 25,
   "id": "c2f6c3e8-c810-4104-8981-a85e97289745",
   "metadata": {},
   "outputs": [
    {
     "name": "stdout",
     "output_type": "stream",
     "text": [
      "<class 'pandas.core.frame.DataFrame'>\n",
      "RangeIndex: 5 entries, 0 to 4\n",
      "Data columns (total 7 columns):\n",
      " #   Column            Non-Null Count  Dtype   \n",
      "---  ------            --------------  -----   \n",
      " 0   date              5 non-null      object  \n",
      " 1   temperature_high  5 non-null      int8    \n",
      " 2   temperature_low   5 non-null      object  \n",
      " 3   rained            5 non-null      bool    \n",
      " 4   snowed            5 non-null      bool    \n",
      " 5   overcast          5 non-null      category\n",
      " 6   comments          5 non-null      string  \n",
      "dtypes: bool(2), category(1), int8(1), object(2), string(1)\n",
      "memory usage: 400.0+ bytes\n"
     ]
    }
   ],
   "source": [
    "weather.info()"
   ]
  },
  {
   "cell_type": "code",
   "execution_count": 26,
   "id": "7e9069e1-a1be-4b0e-a6f1-2fe0d4198871",
   "metadata": {},
   "outputs": [
    {
     "data": {
      "text/plain": [
       "0    cloudy\n",
       "1     sunny\n",
       "2     foggy\n",
       "3     sunny\n",
       "4    cloudy\n",
       "Name: overcast, dtype: category\n",
       "Categories (3, object): ['cloudy', 'foggy', 'sunny']"
      ]
     },
     "execution_count": 26,
     "metadata": {},
     "output_type": "execute_result"
    }
   ],
   "source": [
    "weather['overcast']"
   ]
  },
  {
   "cell_type": "code",
   "execution_count": 27,
   "id": "1d9456d2-52bd-4546-8eb8-6dbc57f9113e",
   "metadata": {},
   "outputs": [
    {
     "data": {
      "text/plain": [
       "0         happy new year\n",
       "1             second day\n",
       "2              third day\n",
       "3     first business day\n",
       "4    second business day\n",
       "Name: comments, dtype: string"
      ]
     },
     "execution_count": 27,
     "metadata": {},
     "output_type": "execute_result"
    }
   ],
   "source": [
    "weather['comments']"
   ]
  },
  {
   "cell_type": "code",
   "execution_count": 28,
   "id": "3b69f30a-f065-494e-8a6c-2b6e84b2abf5",
   "metadata": {},
   "outputs": [
    {
     "data": {
      "text/plain": [
       "date                  object\n",
       "temperature_high        int8\n",
       "temperature_low       object\n",
       "rained                  bool\n",
       "snowed                  bool\n",
       "overcast            category\n",
       "comments              string\n",
       "dtype: object"
      ]
     },
     "execution_count": 28,
     "metadata": {},
     "output_type": "execute_result"
    }
   ],
   "source": [
    "weather.dtypes"
   ]
  },
  {
   "cell_type": "code",
   "execution_count": 29,
   "id": "17c1bf12-6469-4885-aff2-4d27468a0986",
   "metadata": {},
   "outputs": [],
   "source": [
    "weather['temperature_low']=pd.to_numeric(weather['temperature_low'], errors='coerce')"
   ]
  },
  {
   "cell_type": "code",
   "execution_count": 30,
   "id": "c27b999b-a472-48a7-80cf-c4b8cbe1b84b",
   "metadata": {},
   "outputs": [
    {
     "data": {
      "text/plain": [
       "0    1.0\n",
       "1    2.0\n",
       "2    2.0\n",
       "3    2.0\n",
       "4    NaN\n",
       "Name: temperature_low, dtype: float64"
      ]
     },
     "execution_count": 30,
     "metadata": {},
     "output_type": "execute_result"
    }
   ],
   "source": [
    "weather['temperature_low']"
   ]
  },
  {
   "cell_type": "code",
   "execution_count": 32,
   "id": "94c52ae5-57a4-4519-a63e-8c4599c2eba7",
   "metadata": {},
   "outputs": [],
   "source": [
    "# weather DataFrame at the 'date' column overwrite astype('datetime64')\n",
    "weather['date']=weather['date'].astype('datetime64')\n",
    "weather['date']=pd.to_datetime(weather['date'])"
   ]
  },
  {
   "cell_type": "code",
   "execution_count": 33,
   "id": "6c39f605-7c45-4bd1-a78f-85643f7d3b6e",
   "metadata": {},
   "outputs": [
    {
     "data": {
      "text/plain": [
       "0   2021-01-01\n",
       "1   2021-01-02\n",
       "2   2021-01-03\n",
       "3   2021-01-04\n",
       "4   2021-01-05\n",
       "Name: date, dtype: datetime64[ns]"
      ]
     },
     "execution_count": 33,
     "metadata": {},
     "output_type": "execute_result"
    }
   ],
   "source": [
    "weather['date']"
   ]
  },
  {
   "cell_type": "code",
   "execution_count": 36,
   "id": "8b27634a-d741-434a-9087-f046f45899ee",
   "metadata": {},
   "outputs": [
    {
     "data": {
      "text/plain": [
       "date                datetime64[ns]\n",
       "temperature_high              int8\n",
       "temperature_low            float64\n",
       "rained                        bool\n",
       "snowed                        bool\n",
       "overcast                  category\n",
       "comments                    string\n",
       "dtype: object"
      ]
     },
     "execution_count": 36,
     "metadata": {},
     "output_type": "execute_result"
    }
   ],
   "source": [
    "weather.dtypes"
   ]
  },
  {
   "cell_type": "markdown",
   "id": "f8e81962-7c24-4d37-9937-ae175cd89a27",
   "metadata": {},
   "source": [
    "# Convert heros datasets"
   ]
  },
  {
   "cell_type": "code",
   "execution_count": 37,
   "id": "45d60092-eeb5-4b39-a2f7-956f9d3c8c81",
   "metadata": {},
   "outputs": [],
   "source": [
    "hero_powers=pd.read_csv('superhero_powers.csv')\n",
    "hero_dc=pd.read_excel('superhero_info.xlsx', sheet_name='DC Comics')\n",
    "her_marvel=pd.read_excel('superhero_info.xlsx', sheet_name='Marvel Comics')"
   ]
  },
  {
   "cell_type": "code",
   "execution_count": 38,
   "id": "956a43f2-fdb9-4553-81be-7509fb971ea7",
   "metadata": {},
   "outputs": [
    {
     "name": "stdout",
     "output_type": "stream",
     "text": [
      "<class 'pandas.core.frame.DataFrame'>\n",
      "RangeIndex: 667 entries, 0 to 666\n",
      "Columns: 168 entries, hero_names to Omniscient\n",
      "dtypes: bool(167), object(1)\n",
      "memory usage: 114.1+ KB\n"
     ]
    }
   ],
   "source": [
    "hero_powers.info()"
   ]
  },
  {
   "cell_type": "code",
   "execution_count": 39,
   "id": "3ceae53b-ebe3-4e15-832f-b49629ae2de5",
   "metadata": {},
   "outputs": [],
   "source": [
    "hero_powers['hero_names']=hero_powers['hero_names'].astype('string')"
   ]
  },
  {
   "cell_type": "code",
   "execution_count": 40,
   "id": "0981ef42-9fa0-4f18-8e78-9c1164fd0e42",
   "metadata": {},
   "outputs": [
    {
     "data": {
      "text/plain": [
       "0              3-D Man\n",
       "1               A-Bomb\n",
       "2           Abe Sapien\n",
       "3             Abin Sur\n",
       "4          Abomination\n",
       "            ...       \n",
       "662    Yellowjacket II\n",
       "663               Ymir\n",
       "664               Yoda\n",
       "665            Zatanna\n",
       "666               Zoom\n",
       "Name: hero_names, Length: 667, dtype: string"
      ]
     },
     "execution_count": 40,
     "metadata": {},
     "output_type": "execute_result"
    }
   ],
   "source": [
    "hero_powers['hero_names']"
   ]
  },
  {
   "cell_type": "code",
   "execution_count": 42,
   "id": "0f880b4d-3d00-4908-ab07-42091cff21ad",
   "metadata": {},
   "outputs": [],
   "source": [
    "# read the hero_powers dataset and change the dtype of the column 'hero_names' to string using a dictionary\n",
    "hero_powers=pd.read_csv('superhero_powers.csv', dtype={'hero_names' : 'string'})"
   ]
  },
  {
   "cell_type": "code",
   "execution_count": 43,
   "id": "88fac99b-6992-4766-8e54-6d5caa38169a",
   "metadata": {},
   "outputs": [
    {
     "data": {
      "text/plain": [
       "hero_names               string\n",
       "Agility                    bool\n",
       "Accelerated Healing        bool\n",
       "Lantern Power Ring         bool\n",
       "Dimensional Awareness      bool\n",
       "                          ...  \n",
       "Phoenix Force              bool\n",
       "Molecular Dissipation      bool\n",
       "Vision - Cryo              bool\n",
       "Omnipresent                bool\n",
       "Omniscient                 bool\n",
       "Length: 168, dtype: object"
      ]
     },
     "execution_count": 43,
     "metadata": {},
     "output_type": "execute_result"
    }
   ],
   "source": [
    "hero_powers.dtypes"
   ]
  },
  {
   "cell_type": "code",
   "execution_count": 44,
   "id": "a6403c52-dda9-4f29-a572-26c564272dd5",
   "metadata": {},
   "outputs": [
    {
     "data": {
      "text/html": [
       "<div>\n",
       "<style scoped>\n",
       "    .dataframe tbody tr th:only-of-type {\n",
       "        vertical-align: middle;\n",
       "    }\n",
       "\n",
       "    .dataframe tbody tr th {\n",
       "        vertical-align: top;\n",
       "    }\n",
       "\n",
       "    .dataframe thead th {\n",
       "        text-align: right;\n",
       "    }\n",
       "</style>\n",
       "<table border=\"1\" class=\"dataframe\">\n",
       "  <thead>\n",
       "    <tr style=\"text-align: right;\">\n",
       "      <th></th>\n",
       "      <th>hero_names</th>\n",
       "      <th>Agility</th>\n",
       "      <th>Accelerated Healing</th>\n",
       "      <th>Lantern Power Ring</th>\n",
       "      <th>Dimensional Awareness</th>\n",
       "      <th>Cold Resistance</th>\n",
       "      <th>Durability</th>\n",
       "      <th>Stealth</th>\n",
       "      <th>Energy Absorption</th>\n",
       "      <th>Flight</th>\n",
       "      <th>...</th>\n",
       "      <th>Web Creation</th>\n",
       "      <th>Reality Warping</th>\n",
       "      <th>Odin Force</th>\n",
       "      <th>Symbiote Costume</th>\n",
       "      <th>Speed Force</th>\n",
       "      <th>Phoenix Force</th>\n",
       "      <th>Molecular Dissipation</th>\n",
       "      <th>Vision - Cryo</th>\n",
       "      <th>Omnipresent</th>\n",
       "      <th>Omniscient</th>\n",
       "    </tr>\n",
       "  </thead>\n",
       "  <tbody>\n",
       "    <tr>\n",
       "      <th>0</th>\n",
       "      <td>3-D Man</td>\n",
       "      <td>True</td>\n",
       "      <td>False</td>\n",
       "      <td>False</td>\n",
       "      <td>False</td>\n",
       "      <td>False</td>\n",
       "      <td>False</td>\n",
       "      <td>False</td>\n",
       "      <td>False</td>\n",
       "      <td>False</td>\n",
       "      <td>...</td>\n",
       "      <td>False</td>\n",
       "      <td>False</td>\n",
       "      <td>False</td>\n",
       "      <td>False</td>\n",
       "      <td>False</td>\n",
       "      <td>False</td>\n",
       "      <td>False</td>\n",
       "      <td>False</td>\n",
       "      <td>False</td>\n",
       "      <td>False</td>\n",
       "    </tr>\n",
       "    <tr>\n",
       "      <th>1</th>\n",
       "      <td>A-Bomb</td>\n",
       "      <td>False</td>\n",
       "      <td>True</td>\n",
       "      <td>False</td>\n",
       "      <td>False</td>\n",
       "      <td>False</td>\n",
       "      <td>True</td>\n",
       "      <td>False</td>\n",
       "      <td>False</td>\n",
       "      <td>False</td>\n",
       "      <td>...</td>\n",
       "      <td>False</td>\n",
       "      <td>False</td>\n",
       "      <td>False</td>\n",
       "      <td>False</td>\n",
       "      <td>False</td>\n",
       "      <td>False</td>\n",
       "      <td>False</td>\n",
       "      <td>False</td>\n",
       "      <td>False</td>\n",
       "      <td>False</td>\n",
       "    </tr>\n",
       "    <tr>\n",
       "      <th>2</th>\n",
       "      <td>Abe Sapien</td>\n",
       "      <td>True</td>\n",
       "      <td>True</td>\n",
       "      <td>False</td>\n",
       "      <td>False</td>\n",
       "      <td>True</td>\n",
       "      <td>True</td>\n",
       "      <td>False</td>\n",
       "      <td>False</td>\n",
       "      <td>False</td>\n",
       "      <td>...</td>\n",
       "      <td>False</td>\n",
       "      <td>False</td>\n",
       "      <td>False</td>\n",
       "      <td>False</td>\n",
       "      <td>False</td>\n",
       "      <td>False</td>\n",
       "      <td>False</td>\n",
       "      <td>False</td>\n",
       "      <td>False</td>\n",
       "      <td>False</td>\n",
       "    </tr>\n",
       "    <tr>\n",
       "      <th>3</th>\n",
       "      <td>Abin Sur</td>\n",
       "      <td>False</td>\n",
       "      <td>False</td>\n",
       "      <td>True</td>\n",
       "      <td>False</td>\n",
       "      <td>False</td>\n",
       "      <td>False</td>\n",
       "      <td>False</td>\n",
       "      <td>False</td>\n",
       "      <td>False</td>\n",
       "      <td>...</td>\n",
       "      <td>False</td>\n",
       "      <td>False</td>\n",
       "      <td>False</td>\n",
       "      <td>False</td>\n",
       "      <td>False</td>\n",
       "      <td>False</td>\n",
       "      <td>False</td>\n",
       "      <td>False</td>\n",
       "      <td>False</td>\n",
       "      <td>False</td>\n",
       "    </tr>\n",
       "    <tr>\n",
       "      <th>4</th>\n",
       "      <td>Abomination</td>\n",
       "      <td>False</td>\n",
       "      <td>True</td>\n",
       "      <td>False</td>\n",
       "      <td>False</td>\n",
       "      <td>False</td>\n",
       "      <td>False</td>\n",
       "      <td>False</td>\n",
       "      <td>False</td>\n",
       "      <td>False</td>\n",
       "      <td>...</td>\n",
       "      <td>False</td>\n",
       "      <td>False</td>\n",
       "      <td>False</td>\n",
       "      <td>False</td>\n",
       "      <td>False</td>\n",
       "      <td>False</td>\n",
       "      <td>False</td>\n",
       "      <td>False</td>\n",
       "      <td>False</td>\n",
       "      <td>False</td>\n",
       "    </tr>\n",
       "  </tbody>\n",
       "</table>\n",
       "<p>5 rows × 168 columns</p>\n",
       "</div>"
      ],
      "text/plain": [
       "    hero_names  Agility  Accelerated Healing  Lantern Power Ring  \\\n",
       "0      3-D Man     True                False               False   \n",
       "1       A-Bomb    False                 True               False   \n",
       "2   Abe Sapien     True                 True               False   \n",
       "3     Abin Sur    False                False                True   \n",
       "4  Abomination    False                 True               False   \n",
       "\n",
       "   Dimensional Awareness  Cold Resistance  Durability  Stealth  \\\n",
       "0                  False            False       False    False   \n",
       "1                  False            False        True    False   \n",
       "2                  False             True        True    False   \n",
       "3                  False            False       False    False   \n",
       "4                  False            False       False    False   \n",
       "\n",
       "   Energy Absorption  Flight  ...  Web Creation  Reality Warping  Odin Force  \\\n",
       "0              False   False  ...         False            False       False   \n",
       "1              False   False  ...         False            False       False   \n",
       "2              False   False  ...         False            False       False   \n",
       "3              False   False  ...         False            False       False   \n",
       "4              False   False  ...         False            False       False   \n",
       "\n",
       "   Symbiote Costume  Speed Force  Phoenix Force  Molecular Dissipation  \\\n",
       "0             False        False          False                  False   \n",
       "1             False        False          False                  False   \n",
       "2             False        False          False                  False   \n",
       "3             False        False          False                  False   \n",
       "4             False        False          False                  False   \n",
       "\n",
       "   Vision - Cryo  Omnipresent  Omniscient  \n",
       "0          False        False       False  \n",
       "1          False        False       False  \n",
       "2          False        False       False  \n",
       "3          False        False       False  \n",
       "4          False        False       False  \n",
       "\n",
       "[5 rows x 168 columns]"
      ]
     },
     "execution_count": 44,
     "metadata": {},
     "output_type": "execute_result"
    }
   ],
   "source": [
    "hero_powers.head()"
   ]
  },
  {
   "cell_type": "code",
   "execution_count": 45,
   "id": "f53a32f7-e6bc-481b-9e40-a096f3acc2ac",
   "metadata": {},
   "outputs": [
    {
     "data": {
      "text/plain": [
       "name           object\n",
       "Gender         object\n",
       "Eye color      object\n",
       "Race           object\n",
       "Hair color     object\n",
       "Height          int64\n",
       "Publisher      object\n",
       "Alignment      object\n",
       "Weight        float64\n",
       "dtype: object"
      ]
     },
     "execution_count": 45,
     "metadata": {},
     "output_type": "execute_result"
    }
   ],
   "source": [
    "hero_dc.dtypes"
   ]
  },
  {
   "cell_type": "code",
   "execution_count": 47,
   "id": "9f1b166f-7046-44b1-b41d-717e89ae3c45",
   "metadata": {},
   "outputs": [],
   "source": [
    "hero_dtype = {'name' : 'string',\n",
    "              'Gender' : 'category',\n",
    "              'Eye color': 'string',\n",
    "              'Race' : 'string',\n",
    "              'Hair color' : 'string',\n",
    "              'Publisher' : 'string',\n",
    "              'Alignment' : 'category'}"
   ]
  },
  {
   "cell_type": "code",
   "execution_count": 49,
   "id": "8c93a987-4c25-4032-9289-fa71b3ef5065",
   "metadata": {},
   "outputs": [],
   "source": [
    "hero_dc=pd.read_excel('superhero_info.xlsx', sheet_name='DC Comics', dtype=hero_dtype)\n",
    "hero_marvel=pd.read_excel('superhero_info.xlsx', sheet_name='Marvel Comics', dtype=hero_dtype)"
   ]
  },
  {
   "cell_type": "code",
   "execution_count": 50,
   "id": "23efd3ae-d7e8-44b2-b780-4299651574a1",
   "metadata": {},
   "outputs": [
    {
     "data": {
      "text/plain": [
       "name            string\n",
       "Gender        category\n",
       "Eye color       string\n",
       "Race            string\n",
       "Hair color      string\n",
       "Height           int64\n",
       "Publisher       string\n",
       "Alignment     category\n",
       "Weight         float64\n",
       "dtype: object"
      ]
     },
     "execution_count": 50,
     "metadata": {},
     "output_type": "execute_result"
    }
   ],
   "source": [
    "hero_dc.dtypes"
   ]
  },
  {
   "cell_type": "code",
   "execution_count": null,
   "id": "d6c78b99-a137-47e5-88ee-8b4864b01121",
   "metadata": {},
   "outputs": [],
   "source": []
  }
 ],
 "metadata": {
  "kernelspec": {
   "display_name": "Python 3 (ipykernel)",
   "language": "python",
   "name": "python3"
  },
  "language_info": {
   "codemirror_mode": {
    "name": "ipython",
    "version": 3
   },
   "file_extension": ".py",
   "mimetype": "text/x-python",
   "name": "python",
   "nbconvert_exporter": "python",
   "pygments_lexer": "ipython3",
   "version": "3.9.13"
  }
 },
 "nbformat": 4,
 "nbformat_minor": 5
}
