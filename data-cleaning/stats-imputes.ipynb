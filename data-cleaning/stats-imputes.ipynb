{
 "cells": [
  {
   "cell_type": "code",
   "execution_count": 1,
   "metadata": {},
   "outputs": [],
   "source": [
    "import pandas as pd\n",
    "wdi = pd.read_pickle('wdi.pkl')\n",
    "numeric_cols = wdi.select_dtypes(include='number').columns\n",
    "cat_cols = wdi.select_dtypes(exclude='number').columns"
   ]
  },
  {
   "cell_type": "code",
   "execution_count": 2,
   "metadata": {},
   "outputs": [
    {
     "data": {
      "text/plain": [
       "access_to_electricity_pct         8.421552e+01\n",
       "atms_per_100000                   4.812857e+01\n",
       "compulsory_education_years        9.701456e+00\n",
       "health_expenditure_pct_of_gdp     6.433350e+00\n",
       "gdp_per_capita_usd                1.359989e+04\n",
       "gdp_per_capita_ppp                1.992523e+04\n",
       "life_expectancy_female            7.456947e+01\n",
       "life_expectancy_male              6.986652e+01\n",
       "life_expectancy                   7.217627e+01\n",
       "population_density                2.099738e+02\n",
       "population                        3.690135e+08\n",
       "alcohol_consumption_per_capita    6.016516e+00\n",
       "unemployment_rate_female          8.404762e+00\n",
       "unemployment_rate_male            6.465617e+00\n",
       "unemployment_rate                 7.047682e+00\n",
       "year                              2.017500e+03\n",
       "is_region                         2.119816e-01\n",
       "dtype: float64"
      ]
     },
     "execution_count": 2,
     "metadata": {},
     "output_type": "execute_result"
    }
   ],
   "source": [
    "wdi[numeric_cols].mean()"
   ]
  },
  {
   "cell_type": "code",
   "execution_count": 3,
   "metadata": {},
   "outputs": [
    {
     "data": {
      "text/plain": [
       "access_to_electricity_pct         9.891294e+01\n",
       "atms_per_100000                   3.941107e+01\n",
       "compulsory_education_years        1.000000e+01\n",
       "health_expenditure_pct_of_gdp     6.006967e+00\n",
       "gdp_per_capita_usd                5.783711e+03\n",
       "gdp_per_capita_ppp                1.310845e+04\n",
       "life_expectancy_female            7.608850e+01\n",
       "life_expectancy_male              7.081350e+01\n",
       "life_expectancy                   7.358550e+01\n",
       "population_density                6.961068e+01\n",
       "population                        1.604842e+07\n",
       "alcohol_consumption_per_capita    5.837431e+00\n",
       "unemployment_rate_female          5.836087e+00\n",
       "unemployment_rate_male            5.351708e+00\n",
       "unemployment_rate                 5.606500e+00\n",
       "year                              2.017500e+03\n",
       "is_region                         0.000000e+00\n",
       "dtype: float64"
      ]
     },
     "execution_count": 3,
     "metadata": {},
     "output_type": "execute_result"
    }
   ],
   "source": [
    "wdi[numeric_cols].median()"
   ]
  },
  {
   "cell_type": "code",
   "execution_count": 5,
   "metadata": {},
   "outputs": [],
   "source": [
    "wdi[numeric_cols] = wdi[numeric_cols].fillna(wdi[numeric_cols].mean())"
   ]
  },
  {
   "cell_type": "code",
   "execution_count": 6,
   "metadata": {},
   "outputs": [
    {
     "data": {
      "text/plain": [
       "alcohol_consumption_per_capita\n",
       "6.016516     219\n",
       "0.690000       3\n",
       "9.230000       2\n",
       "12.030000      2\n",
       "0.682988       2\n",
       "            ... \n",
       "1.110000       1\n",
       "5.380000       1\n",
       "6.890000       1\n",
       "2.730000       1\n",
       "4.670000       1\n",
       "Name: count, Length: 205, dtype: int64"
      ]
     },
     "execution_count": 6,
     "metadata": {},
     "output_type": "execute_result"
    }
   ],
   "source": [
    "wdi['alcohol_consumption_per_capita'].value_counts(dropna=False)"
   ]
  },
  {
   "cell_type": "code",
   "execution_count": 7,
   "metadata": {},
   "outputs": [
    {
     "data": {
      "text/html": [
       "<div>\n",
       "<style scoped>\n",
       "    .dataframe tbody tr th:only-of-type {\n",
       "        vertical-align: middle;\n",
       "    }\n",
       "\n",
       "    .dataframe tbody tr th {\n",
       "        vertical-align: top;\n",
       "    }\n",
       "\n",
       "    .dataframe thead th {\n",
       "        text-align: right;\n",
       "    }\n",
       "</style>\n",
       "<table border=\"1\" class=\"dataframe\">\n",
       "  <thead>\n",
       "    <tr style=\"text-align: right;\">\n",
       "      <th></th>\n",
       "      <th>country_name</th>\n",
       "      <th>country_category</th>\n",
       "    </tr>\n",
       "  </thead>\n",
       "  <tbody>\n",
       "    <tr>\n",
       "      <th>count</th>\n",
       "      <td>434</td>\n",
       "      <td>282</td>\n",
       "    </tr>\n",
       "    <tr>\n",
       "      <th>unique</th>\n",
       "      <td>217</td>\n",
       "      <td>2</td>\n",
       "    </tr>\n",
       "    <tr>\n",
       "      <th>top</th>\n",
       "      <td>Afghanistan</td>\n",
       "      <td>DEVELOPING</td>\n",
       "    </tr>\n",
       "    <tr>\n",
       "      <th>freq</th>\n",
       "      <td>2</td>\n",
       "      <td>224</td>\n",
       "    </tr>\n",
       "  </tbody>\n",
       "</table>\n",
       "</div>"
      ],
      "text/plain": [
       "       country_name country_category\n",
       "count           434              282\n",
       "unique          217                2\n",
       "top     Afghanistan       DEVELOPING\n",
       "freq              2              224"
      ]
     },
     "execution_count": 7,
     "metadata": {},
     "output_type": "execute_result"
    }
   ],
   "source": [
    "wdi[cat_cols].describe()"
   ]
  },
  {
   "cell_type": "code",
   "execution_count": 9,
   "metadata": {},
   "outputs": [],
   "source": [
    "most_freq = wdi[cat_cols].describe().loc['top']"
   ]
  },
  {
   "cell_type": "code",
   "execution_count": 10,
   "metadata": {},
   "outputs": [],
   "source": [
    "wdi[cat_cols] = wdi[cat_cols].fillna(most_freq)"
   ]
  },
  {
   "cell_type": "code",
   "execution_count": 11,
   "metadata": {},
   "outputs": [
    {
     "data": {
      "text/plain": [
       "country_category\n",
       "DEVELOPING    376\n",
       "DEVELOPED      58\n",
       "Name: count, dtype: int64"
      ]
     },
     "execution_count": 11,
     "metadata": {},
     "output_type": "execute_result"
    }
   ],
   "source": [
    "wdi[\"country_category\"].value_counts(dropna=False)"
   ]
  },
  {
   "cell_type": "code",
   "execution_count": 12,
   "metadata": {},
   "outputs": [
    {
     "name": "stdout",
     "output_type": "stream",
     "text": [
      "<class 'pandas.core.frame.DataFrame'>\n",
      "RangeIndex: 434 entries, 0 to 433\n",
      "Data columns (total 19 columns):\n",
      " #   Column                          Non-Null Count  Dtype  \n",
      "---  ------                          --------------  -----  \n",
      " 0   country_name                    434 non-null    object \n",
      " 1   access_to_electricity_pct       434 non-null    float64\n",
      " 2   atms_per_100000                 434 non-null    float64\n",
      " 3   compulsory_education_years      434 non-null    float64\n",
      " 4   health_expenditure_pct_of_gdp   434 non-null    float64\n",
      " 5   gdp_per_capita_usd              434 non-null    float64\n",
      " 6   gdp_per_capita_ppp              434 non-null    float64\n",
      " 7   life_expectancy_female          434 non-null    float64\n",
      " 8   life_expectancy_male            434 non-null    float64\n",
      " 9   life_expectancy                 434 non-null    float64\n",
      " 10  population_density              434 non-null    float64\n",
      " 11  population                      434 non-null    float64\n",
      " 12  alcohol_consumption_per_capita  434 non-null    float64\n",
      " 13  unemployment_rate_female        434 non-null    float64\n",
      " 14  unemployment_rate_male          434 non-null    float64\n",
      " 15  unemployment_rate               434 non-null    float64\n",
      " 16  year                            434 non-null    int64  \n",
      " 17  country_category                434 non-null    object \n",
      " 18  is_region                       434 non-null    int64  \n",
      "dtypes: float64(15), int64(2), object(2)\n",
      "memory usage: 64.5+ KB\n"
     ]
    }
   ],
   "source": [
    "wdi.info()"
   ]
  },
  {
   "cell_type": "code",
   "execution_count": 13,
   "metadata": {},
   "outputs": [],
   "source": [
    "wdi = pd.read_pickle('wdi.pkl')\n",
    "numeric_cols = wdi.select_dtypes(include='number').columns\n",
    "cat_cols = wdi.select_dtypes(exclude='number').columns"
   ]
  },
  {
   "cell_type": "code",
   "execution_count": 14,
   "metadata": {},
   "outputs": [],
   "source": [
    "from sklearn.impute import SimpleImputer"
   ]
  },
  {
   "cell_type": "code",
   "execution_count": 15,
   "metadata": {},
   "outputs": [],
   "source": [
    "simple_imp_mean = SimpleImputer(strategy='mean')"
   ]
  },
  {
   "cell_type": "code",
   "execution_count": 17,
   "metadata": {},
   "outputs": [],
   "source": [
    "imputed_num=simple_imp_mean.fit_transform(wdi[numeric_cols])"
   ]
  },
  {
   "cell_type": "code",
   "execution_count": 18,
   "metadata": {},
   "outputs": [
    {
     "data": {
      "text/plain": [
       "(434, 17)"
      ]
     },
     "execution_count": 18,
     "metadata": {},
     "output_type": "execute_result"
    }
   ],
   "source": [
    "imputed_num.shape"
   ]
  },
  {
   "cell_type": "code",
   "execution_count": 19,
   "metadata": {},
   "outputs": [
    {
     "data": {
      "text/plain": [
       "(434, 17)"
      ]
     },
     "execution_count": 19,
     "metadata": {},
     "output_type": "execute_result"
    }
   ],
   "source": [
    "wdi[numeric_cols].shape"
   ]
  },
  {
   "cell_type": "code",
   "execution_count": 20,
   "metadata": {},
   "outputs": [],
   "source": [
    "wdi[numeric_cols]=imputed_num"
   ]
  },
  {
   "cell_type": "code",
   "execution_count": 21,
   "metadata": {},
   "outputs": [
    {
     "data": {
      "text/plain": [
       "compulsory_education_years\n",
       "9.000000     102\n",
       "10.000000    100\n",
       "6.000000      36\n",
       "12.000000     34\n",
       "11.000000     31\n",
       "8.000000      24\n",
       "9.701456      22\n",
       "7.000000      20\n",
       "13.000000     17\n",
       "14.000000     16\n",
       "15.000000     10\n",
       "5.000000       6\n",
       "9.500000       6\n",
       "8.500000       4\n",
       "6.500000       2\n",
       "10.500000      2\n",
       "16.000000      2\n",
       "Name: count, dtype: int64"
      ]
     },
     "execution_count": 21,
     "metadata": {},
     "output_type": "execute_result"
    }
   ],
   "source": [
    "wdi['compulsory_education_years'].value_counts(dropna=False)"
   ]
  },
  {
   "cell_type": "code",
   "execution_count": 23,
   "metadata": {},
   "outputs": [
    {
     "name": "stdout",
     "output_type": "stream",
     "text": [
      "<class 'pandas.core.frame.DataFrame'>\n",
      "RangeIndex: 434 entries, 0 to 433\n",
      "Data columns (total 19 columns):\n",
      " #   Column                          Non-Null Count  Dtype  \n",
      "---  ------                          --------------  -----  \n",
      " 0   country_name                    434 non-null    object \n",
      " 1   access_to_electricity_pct       434 non-null    float64\n",
      " 2   atms_per_100000                 434 non-null    float64\n",
      " 3   compulsory_education_years      434 non-null    float64\n",
      " 4   health_expenditure_pct_of_gdp   434 non-null    float64\n",
      " 5   gdp_per_capita_usd              434 non-null    float64\n",
      " 6   gdp_per_capita_ppp              434 non-null    float64\n",
      " 7   life_expectancy_female          434 non-null    float64\n",
      " 8   life_expectancy_male            434 non-null    float64\n",
      " 9   life_expectancy                 434 non-null    float64\n",
      " 10  population_density              434 non-null    float64\n",
      " 11  population                      434 non-null    float64\n",
      " 12  alcohol_consumption_per_capita  434 non-null    float64\n",
      " 13  unemployment_rate_female        434 non-null    float64\n",
      " 14  unemployment_rate_male          434 non-null    float64\n",
      " 15  unemployment_rate               434 non-null    float64\n",
      " 16  year                            434 non-null    float64\n",
      " 17  country_category                282 non-null    object \n",
      " 18  is_region                       434 non-null    float64\n",
      "dtypes: float64(17), object(2)\n",
      "memory usage: 64.5+ KB\n"
     ]
    }
   ],
   "source": [
    "wdi.info()"
   ]
  },
  {
   "cell_type": "code",
   "execution_count": 24,
   "metadata": {},
   "outputs": [],
   "source": [
    "simple_imp_freq = SimpleImputer(strategy='most_frequent')"
   ]
  },
  {
   "cell_type": "code",
   "execution_count": 25,
   "metadata": {},
   "outputs": [],
   "source": [
    "imputed_cat = simple_imp_freq.fit_transform(wdi[cat_cols])"
   ]
  },
  {
   "cell_type": "code",
   "execution_count": 27,
   "metadata": {},
   "outputs": [],
   "source": [
    "wdi[cat_cols]=imputed_cat"
   ]
  },
  {
   "cell_type": "code",
   "execution_count": 28,
   "metadata": {},
   "outputs": [
    {
     "name": "stdout",
     "output_type": "stream",
     "text": [
      "<class 'pandas.core.frame.DataFrame'>\n",
      "RangeIndex: 434 entries, 0 to 433\n",
      "Data columns (total 19 columns):\n",
      " #   Column                          Non-Null Count  Dtype  \n",
      "---  ------                          --------------  -----  \n",
      " 0   country_name                    434 non-null    object \n",
      " 1   access_to_electricity_pct       434 non-null    float64\n",
      " 2   atms_per_100000                 434 non-null    float64\n",
      " 3   compulsory_education_years      434 non-null    float64\n",
      " 4   health_expenditure_pct_of_gdp   434 non-null    float64\n",
      " 5   gdp_per_capita_usd              434 non-null    float64\n",
      " 6   gdp_per_capita_ppp              434 non-null    float64\n",
      " 7   life_expectancy_female          434 non-null    float64\n",
      " 8   life_expectancy_male            434 non-null    float64\n",
      " 9   life_expectancy                 434 non-null    float64\n",
      " 10  population_density              434 non-null    float64\n",
      " 11  population                      434 non-null    float64\n",
      " 12  alcohol_consumption_per_capita  434 non-null    float64\n",
      " 13  unemployment_rate_female        434 non-null    float64\n",
      " 14  unemployment_rate_male          434 non-null    float64\n",
      " 15  unemployment_rate               434 non-null    float64\n",
      " 16  year                            434 non-null    float64\n",
      " 17  country_category                434 non-null    object \n",
      " 18  is_region                       434 non-null    float64\n",
      "dtypes: float64(17), object(2)\n",
      "memory usage: 64.5+ KB\n"
     ]
    }
   ],
   "source": [
    "wdi.info()"
   ]
  },
  {
   "cell_type": "code",
   "execution_count": 29,
   "metadata": {},
   "outputs": [],
   "source": [
    "wdi=pd.read_pickle('wdi.pkl')"
   ]
  },
  {
   "cell_type": "code",
   "execution_count": 30,
   "metadata": {},
   "outputs": [],
   "source": [
    "simple_imp_ind = SimpleImputer(strategy='mean', add_indicator=True)"
   ]
  },
  {
   "cell_type": "code",
   "execution_count": 32,
   "metadata": {},
   "outputs": [
    {
     "data": {
      "text/plain": [
       "pandas.core.frame.DataFrame"
      ]
     },
     "execution_count": 32,
     "metadata": {},
     "output_type": "execute_result"
    }
   ],
   "source": [
    "type(wdi[['compulsory_education_years']])"
   ]
  },
  {
   "cell_type": "code",
   "execution_count": 33,
   "metadata": {},
   "outputs": [],
   "source": [
    "imputed_ind=simple_imp_ind.fit_transform(wdi[['compulsory_education_years']])"
   ]
  },
  {
   "cell_type": "code",
   "execution_count": 34,
   "metadata": {},
   "outputs": [
    {
     "data": {
      "text/plain": [
       "array([[ 9.        ,  0.        ],\n",
       "       [ 9.        ,  0.        ],\n",
       "       [10.        ,  0.        ],\n",
       "       [ 6.        ,  0.        ],\n",
       "       [ 9.        ,  0.        ],\n",
       "       [14.        ,  0.        ],\n",
       "       [12.        ,  0.        ],\n",
       "       [10.        ,  0.        ],\n",
       "       [13.        ,  0.        ],\n",
       "       [10.        ,  0.        ],\n",
       "       [12.        ,  0.        ],\n",
       "       [ 9.        ,  0.        ],\n",
       "       [ 5.        ,  0.        ],\n",
       "       [11.        ,  0.        ],\n",
       "       [ 9.        ,  0.        ],\n",
       "       [12.        ,  0.        ],\n",
       "       [ 8.        ,  0.        ],\n",
       "       [ 6.        ,  0.        ],\n",
       "       [ 9.70145631,  1.        ],\n",
       "       [14.        ,  0.        ]])"
      ]
     },
     "execution_count": 34,
     "metadata": {},
     "output_type": "execute_result"
    }
   ],
   "source": [
    "imputed_ind[:20]"
   ]
  },
  {
   "cell_type": "code",
   "execution_count": 37,
   "metadata": {},
   "outputs": [
    {
     "data": {
      "text/plain": [
       "(434, 2)"
      ]
     },
     "execution_count": 37,
     "metadata": {},
     "output_type": "execute_result"
    }
   ],
   "source": [
    "imputed_ind.shape"
   ]
  },
  {
   "cell_type": "code",
   "execution_count": 38,
   "metadata": {},
   "outputs": [],
   "source": [
    "wdi[['compulsory_education_years', 'compulsory_education_years_missing']]=imputed_ind"
   ]
  },
  {
   "cell_type": "code",
   "execution_count": 41,
   "metadata": {},
   "outputs": [
    {
     "data": {
      "text/html": [
       "<div>\n",
       "<style scoped>\n",
       "    .dataframe tbody tr th:only-of-type {\n",
       "        vertical-align: middle;\n",
       "    }\n",
       "\n",
       "    .dataframe tbody tr th {\n",
       "        vertical-align: top;\n",
       "    }\n",
       "\n",
       "    .dataframe thead th {\n",
       "        text-align: right;\n",
       "    }\n",
       "</style>\n",
       "<table border=\"1\" class=\"dataframe\">\n",
       "  <thead>\n",
       "    <tr style=\"text-align: right;\">\n",
       "      <th></th>\n",
       "      <th>compulsory_education_years</th>\n",
       "      <th>compulsory_education_years_missing</th>\n",
       "    </tr>\n",
       "  </thead>\n",
       "  <tbody>\n",
       "    <tr>\n",
       "      <th>0</th>\n",
       "      <td>9.000000</td>\n",
       "      <td>0.0</td>\n",
       "    </tr>\n",
       "    <tr>\n",
       "      <th>1</th>\n",
       "      <td>9.000000</td>\n",
       "      <td>0.0</td>\n",
       "    </tr>\n",
       "    <tr>\n",
       "      <th>2</th>\n",
       "      <td>10.000000</td>\n",
       "      <td>0.0</td>\n",
       "    </tr>\n",
       "    <tr>\n",
       "      <th>3</th>\n",
       "      <td>6.000000</td>\n",
       "      <td>0.0</td>\n",
       "    </tr>\n",
       "    <tr>\n",
       "      <th>4</th>\n",
       "      <td>9.000000</td>\n",
       "      <td>0.0</td>\n",
       "    </tr>\n",
       "    <tr>\n",
       "      <th>5</th>\n",
       "      <td>14.000000</td>\n",
       "      <td>0.0</td>\n",
       "    </tr>\n",
       "    <tr>\n",
       "      <th>6</th>\n",
       "      <td>12.000000</td>\n",
       "      <td>0.0</td>\n",
       "    </tr>\n",
       "    <tr>\n",
       "      <th>7</th>\n",
       "      <td>10.000000</td>\n",
       "      <td>0.0</td>\n",
       "    </tr>\n",
       "    <tr>\n",
       "      <th>8</th>\n",
       "      <td>13.000000</td>\n",
       "      <td>0.0</td>\n",
       "    </tr>\n",
       "    <tr>\n",
       "      <th>9</th>\n",
       "      <td>10.000000</td>\n",
       "      <td>0.0</td>\n",
       "    </tr>\n",
       "    <tr>\n",
       "      <th>10</th>\n",
       "      <td>12.000000</td>\n",
       "      <td>0.0</td>\n",
       "    </tr>\n",
       "    <tr>\n",
       "      <th>11</th>\n",
       "      <td>9.000000</td>\n",
       "      <td>0.0</td>\n",
       "    </tr>\n",
       "    <tr>\n",
       "      <th>12</th>\n",
       "      <td>5.000000</td>\n",
       "      <td>0.0</td>\n",
       "    </tr>\n",
       "    <tr>\n",
       "      <th>13</th>\n",
       "      <td>11.000000</td>\n",
       "      <td>0.0</td>\n",
       "    </tr>\n",
       "    <tr>\n",
       "      <th>14</th>\n",
       "      <td>9.000000</td>\n",
       "      <td>0.0</td>\n",
       "    </tr>\n",
       "    <tr>\n",
       "      <th>15</th>\n",
       "      <td>12.000000</td>\n",
       "      <td>0.0</td>\n",
       "    </tr>\n",
       "    <tr>\n",
       "      <th>16</th>\n",
       "      <td>8.000000</td>\n",
       "      <td>0.0</td>\n",
       "    </tr>\n",
       "    <tr>\n",
       "      <th>17</th>\n",
       "      <td>6.000000</td>\n",
       "      <td>0.0</td>\n",
       "    </tr>\n",
       "    <tr>\n",
       "      <th>18</th>\n",
       "      <td>9.701456</td>\n",
       "      <td>1.0</td>\n",
       "    </tr>\n",
       "    <tr>\n",
       "      <th>19</th>\n",
       "      <td>14.000000</td>\n",
       "      <td>0.0</td>\n",
       "    </tr>\n",
       "  </tbody>\n",
       "</table>\n",
       "</div>"
      ],
      "text/plain": [
       "    compulsory_education_years  compulsory_education_years_missing\n",
       "0                     9.000000                                 0.0\n",
       "1                     9.000000                                 0.0\n",
       "2                    10.000000                                 0.0\n",
       "3                     6.000000                                 0.0\n",
       "4                     9.000000                                 0.0\n",
       "5                    14.000000                                 0.0\n",
       "6                    12.000000                                 0.0\n",
       "7                    10.000000                                 0.0\n",
       "8                    13.000000                                 0.0\n",
       "9                    10.000000                                 0.0\n",
       "10                   12.000000                                 0.0\n",
       "11                    9.000000                                 0.0\n",
       "12                    5.000000                                 0.0\n",
       "13                   11.000000                                 0.0\n",
       "14                    9.000000                                 0.0\n",
       "15                   12.000000                                 0.0\n",
       "16                    8.000000                                 0.0\n",
       "17                    6.000000                                 0.0\n",
       "18                    9.701456                                 1.0\n",
       "19                   14.000000                                 0.0"
      ]
     },
     "execution_count": 41,
     "metadata": {},
     "output_type": "execute_result"
    }
   ],
   "source": [
    "wdi[['compulsory_education_years', 'compulsory_education_years_missing']].head(20)"
   ]
  },
  {
   "cell_type": "code",
   "execution_count": null,
   "metadata": {},
   "outputs": [],
   "source": []
  }
 ],
 "metadata": {
  "kernelspec": {
   "display_name": "Python 3",
   "language": "python",
   "name": "python3"
  },
  "language_info": {
   "codemirror_mode": {
    "name": "ipython",
    "version": 3
   },
   "file_extension": ".py",
   "mimetype": "text/x-python",
   "name": "python",
   "nbconvert_exporter": "python",
   "pygments_lexer": "ipython3",
   "version": "3.10.6"
  },
  "orig_nbformat": 4
 },
 "nbformat": 4,
 "nbformat_minor": 2
}
