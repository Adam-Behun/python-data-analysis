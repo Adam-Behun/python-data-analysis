{
 "cells": [
  {
   "cell_type": "markdown",
   "id": "be6b06b9-1d99-4f24-a9ab-6728636caa31",
   "metadata": {},
   "source": [
    "# Loading data from external sources\n",
    "- Working with superhero files"
   ]
  },
  {
   "cell_type": "code",
   "execution_count": 1,
   "id": "7951781f-e2a8-452b-ae42-1562bc7379d7",
   "metadata": {},
   "outputs": [],
   "source": [
    "import pandas as pd"
   ]
  },
  {
   "cell_type": "code",
   "execution_count": 2,
   "id": "36a9137a-8e19-45c0-b758-5f0ad71eb811",
   "metadata": {},
   "outputs": [],
   "source": [
    "# Load the data as a pandas DataFrame\n",
    "hero_powers=pd.read_csv('superhero_powers.csv')"
   ]
  },
  {
   "cell_type": "code",
   "execution_count": 3,
   "id": "bebba9b1-e220-4a06-bd6c-aea4b0121334",
   "metadata": {},
   "outputs": [
    {
     "data": {
      "text/plain": [
       "pandas.core.frame.DataFrame"
      ]
     },
     "execution_count": 3,
     "metadata": {},
     "output_type": "execute_result"
    }
   ],
   "source": [
    "type(hero_powers)"
   ]
  },
  {
   "cell_type": "code",
   "execution_count": 4,
   "id": "ea7bc952-9f42-43f2-8016-43d08fb11f83",
   "metadata": {},
   "outputs": [],
   "source": [
    "hero_dc=pd.read_excel('superhero_info.xlsx', sheet_name='DC Comics')\n",
    "hero_marvel=pd.read_excel('superhero_info.xlsx', sheet_name='Marvel Comics')"
   ]
  },
  {
   "cell_type": "code",
   "execution_count": 5,
   "id": "23833cf9-d268-4d0b-9694-37966748b69c",
   "metadata": {},
   "outputs": [
    {
     "data": {
      "text/plain": [
       "pandas.core.frame.DataFrame"
      ]
     },
     "execution_count": 5,
     "metadata": {},
     "output_type": "execute_result"
    }
   ],
   "source": [
    "type(hero_dc)"
   ]
  },
  {
   "cell_type": "code",
   "execution_count": 7,
   "id": "c72eea2e-9490-4a88-8929-a4e52ab5ec51",
   "metadata": {},
   "outputs": [
    {
     "data": {
      "text/plain": [
       "pandas.core.frame.DataFrame"
      ]
     },
     "execution_count": 7,
     "metadata": {},
     "output_type": "execute_result"
    }
   ],
   "source": [
    "type(hero_marvel)"
   ]
  },
  {
   "cell_type": "code",
   "execution_count": 10,
   "id": "bbb7964e-ab79-4f61-a13b-c9112187a3da",
   "metadata": {},
   "outputs": [
    {
     "data": {
      "text/html": [
       "<div>\n",
       "<style scoped>\n",
       "    .dataframe tbody tr th:only-of-type {\n",
       "        vertical-align: middle;\n",
       "    }\n",
       "\n",
       "    .dataframe tbody tr th {\n",
       "        vertical-align: top;\n",
       "    }\n",
       "\n",
       "    .dataframe thead th {\n",
       "        text-align: right;\n",
       "    }\n",
       "</style>\n",
       "<table border=\"1\" class=\"dataframe\">\n",
       "  <thead>\n",
       "    <tr style=\"text-align: right;\">\n",
       "      <th></th>\n",
       "      <th>name</th>\n",
       "      <th>Gender</th>\n",
       "      <th>Eye color</th>\n",
       "      <th>Race</th>\n",
       "      <th>Hair color</th>\n",
       "      <th>Height</th>\n",
       "      <th>Publisher</th>\n",
       "      <th>Alignment</th>\n",
       "      <th>Weight</th>\n",
       "    </tr>\n",
       "  </thead>\n",
       "  <tbody>\n",
       "    <tr>\n",
       "      <th>0</th>\n",
       "      <td>Abin Sur</td>\n",
       "      <td>Male</td>\n",
       "      <td>blue</td>\n",
       "      <td>Ungaran</td>\n",
       "      <td>No Hair</td>\n",
       "      <td>185</td>\n",
       "      <td>DC Comics</td>\n",
       "      <td>good</td>\n",
       "      <td>90.0</td>\n",
       "    </tr>\n",
       "    <tr>\n",
       "      <th>1</th>\n",
       "      <td>Adam Strange</td>\n",
       "      <td>Male</td>\n",
       "      <td>blue</td>\n",
       "      <td>Human</td>\n",
       "      <td>Blond</td>\n",
       "      <td>185</td>\n",
       "      <td>DC Comics</td>\n",
       "      <td>good</td>\n",
       "      <td>88.0</td>\n",
       "    </tr>\n",
       "    <tr>\n",
       "      <th>2</th>\n",
       "      <td>Alan Scott</td>\n",
       "      <td>Male</td>\n",
       "      <td>blue</td>\n",
       "      <td>-</td>\n",
       "      <td>Blond</td>\n",
       "      <td>180</td>\n",
       "      <td>DC Comics</td>\n",
       "      <td>good</td>\n",
       "      <td>90.0</td>\n",
       "    </tr>\n",
       "    <tr>\n",
       "      <th>3</th>\n",
       "      <td>Alfred Pennyworth</td>\n",
       "      <td>Male</td>\n",
       "      <td>blue</td>\n",
       "      <td>Human</td>\n",
       "      <td>Black</td>\n",
       "      <td>178</td>\n",
       "      <td>DC Comics</td>\n",
       "      <td>good</td>\n",
       "      <td>72.0</td>\n",
       "    </tr>\n",
       "    <tr>\n",
       "      <th>4</th>\n",
       "      <td>Amazo</td>\n",
       "      <td>Male</td>\n",
       "      <td>red</td>\n",
       "      <td>Android</td>\n",
       "      <td>-</td>\n",
       "      <td>257</td>\n",
       "      <td>DC Comics</td>\n",
       "      <td>bad</td>\n",
       "      <td>173.0</td>\n",
       "    </tr>\n",
       "    <tr>\n",
       "      <th>5</th>\n",
       "      <td>Animal Man</td>\n",
       "      <td>Male</td>\n",
       "      <td>blue</td>\n",
       "      <td>Human</td>\n",
       "      <td>Blond</td>\n",
       "      <td>183</td>\n",
       "      <td>DC Comics</td>\n",
       "      <td>good</td>\n",
       "      <td>83.0</td>\n",
       "    </tr>\n",
       "    <tr>\n",
       "      <th>6</th>\n",
       "      <td>Anti-Monitor</td>\n",
       "      <td>Male</td>\n",
       "      <td>yellow</td>\n",
       "      <td>God / Eternal</td>\n",
       "      <td>No Hair</td>\n",
       "      <td>61</td>\n",
       "      <td>DC Comics</td>\n",
       "      <td>bad</td>\n",
       "      <td>NaN</td>\n",
       "    </tr>\n",
       "    <tr>\n",
       "      <th>7</th>\n",
       "      <td>Aquababy</td>\n",
       "      <td>Male</td>\n",
       "      <td>blue</td>\n",
       "      <td>-</td>\n",
       "      <td>Blond</td>\n",
       "      <td>-99</td>\n",
       "      <td>DC Comics</td>\n",
       "      <td>good</td>\n",
       "      <td>NaN</td>\n",
       "    </tr>\n",
       "    <tr>\n",
       "      <th>8</th>\n",
       "      <td>Aqualad</td>\n",
       "      <td>Male</td>\n",
       "      <td>blue</td>\n",
       "      <td>Atlantean</td>\n",
       "      <td>Black</td>\n",
       "      <td>178</td>\n",
       "      <td>DC Comics</td>\n",
       "      <td>good</td>\n",
       "      <td>106.0</td>\n",
       "    </tr>\n",
       "    <tr>\n",
       "      <th>9</th>\n",
       "      <td>Aquaman</td>\n",
       "      <td>Male</td>\n",
       "      <td>blue</td>\n",
       "      <td>Atlantean</td>\n",
       "      <td>Blond</td>\n",
       "      <td>185</td>\n",
       "      <td>DC Comics</td>\n",
       "      <td>good</td>\n",
       "      <td>146.0</td>\n",
       "    </tr>\n",
       "  </tbody>\n",
       "</table>\n",
       "</div>"
      ],
      "text/plain": [
       "                name Gender Eye color           Race Hair color  Height  \\\n",
       "0           Abin Sur   Male      blue        Ungaran    No Hair     185   \n",
       "1       Adam Strange   Male      blue          Human      Blond     185   \n",
       "2         Alan Scott   Male      blue              -      Blond     180   \n",
       "3  Alfred Pennyworth   Male      blue          Human      Black     178   \n",
       "4              Amazo   Male       red        Android          -     257   \n",
       "5         Animal Man   Male      blue          Human      Blond     183   \n",
       "6       Anti-Monitor   Male    yellow  God / Eternal    No Hair      61   \n",
       "7           Aquababy   Male      blue              -      Blond     -99   \n",
       "8            Aqualad   Male      blue      Atlantean      Black     178   \n",
       "9            Aquaman   Male      blue      Atlantean      Blond     185   \n",
       "\n",
       "   Publisher Alignment  Weight  \n",
       "0  DC Comics      good    90.0  \n",
       "1  DC Comics      good    88.0  \n",
       "2  DC Comics      good    90.0  \n",
       "3  DC Comics      good    72.0  \n",
       "4  DC Comics       bad   173.0  \n",
       "5  DC Comics      good    83.0  \n",
       "6  DC Comics       bad     NaN  \n",
       "7  DC Comics      good     NaN  \n",
       "8  DC Comics      good   106.0  \n",
       "9  DC Comics      good   146.0  "
      ]
     },
     "execution_count": 10,
     "metadata": {},
     "output_type": "execute_result"
    }
   ],
   "source": [
    "hero_dc.head(10)"
   ]
  },
  {
   "cell_type": "code",
   "execution_count": 12,
   "id": "196ba041-7d21-4461-bbfc-57c39a969998",
   "metadata": {},
   "outputs": [
    {
     "data": {
      "text/html": [
       "<div>\n",
       "<style scoped>\n",
       "    .dataframe tbody tr th:only-of-type {\n",
       "        vertical-align: middle;\n",
       "    }\n",
       "\n",
       "    .dataframe tbody tr th {\n",
       "        vertical-align: top;\n",
       "    }\n",
       "\n",
       "    .dataframe thead th {\n",
       "        text-align: right;\n",
       "    }\n",
       "</style>\n",
       "<table border=\"1\" class=\"dataframe\">\n",
       "  <thead>\n",
       "    <tr style=\"text-align: right;\">\n",
       "      <th></th>\n",
       "      <th>name</th>\n",
       "      <th>Gender</th>\n",
       "      <th>Eye color</th>\n",
       "      <th>Race</th>\n",
       "      <th>Hair color</th>\n",
       "      <th>Height</th>\n",
       "      <th>Publisher</th>\n",
       "      <th>Alignment</th>\n",
       "      <th>Weight</th>\n",
       "    </tr>\n",
       "  </thead>\n",
       "  <tbody>\n",
       "    <tr>\n",
       "      <th>205</th>\n",
       "      <td>Two-Face</td>\n",
       "      <td>Male</td>\n",
       "      <td>-</td>\n",
       "      <td>-</td>\n",
       "      <td>-</td>\n",
       "      <td>183</td>\n",
       "      <td>DC Comics</td>\n",
       "      <td>bad</td>\n",
       "      <td>82.0</td>\n",
       "    </tr>\n",
       "    <tr>\n",
       "      <th>206</th>\n",
       "      <td>Vibe</td>\n",
       "      <td>Male</td>\n",
       "      <td>brown</td>\n",
       "      <td>Human</td>\n",
       "      <td>Black</td>\n",
       "      <td>178</td>\n",
       "      <td>DC Comics</td>\n",
       "      <td>good</td>\n",
       "      <td>71.0</td>\n",
       "    </tr>\n",
       "    <tr>\n",
       "      <th>207</th>\n",
       "      <td>Vixen</td>\n",
       "      <td>Female</td>\n",
       "      <td>amber</td>\n",
       "      <td>Human</td>\n",
       "      <td>Black</td>\n",
       "      <td>175</td>\n",
       "      <td>DC Comics</td>\n",
       "      <td>good</td>\n",
       "      <td>63.0</td>\n",
       "    </tr>\n",
       "    <tr>\n",
       "      <th>208</th>\n",
       "      <td>Warp</td>\n",
       "      <td>Male</td>\n",
       "      <td>brown</td>\n",
       "      <td>-</td>\n",
       "      <td>Black</td>\n",
       "      <td>173</td>\n",
       "      <td>DC Comics</td>\n",
       "      <td>bad</td>\n",
       "      <td>67.0</td>\n",
       "    </tr>\n",
       "    <tr>\n",
       "      <th>209</th>\n",
       "      <td>White Canary</td>\n",
       "      <td>Female</td>\n",
       "      <td>brown</td>\n",
       "      <td>Human</td>\n",
       "      <td>Black</td>\n",
       "      <td>-99</td>\n",
       "      <td>DC Comics</td>\n",
       "      <td>bad</td>\n",
       "      <td>NaN</td>\n",
       "    </tr>\n",
       "    <tr>\n",
       "      <th>210</th>\n",
       "      <td>Wildfire</td>\n",
       "      <td>Male</td>\n",
       "      <td>-</td>\n",
       "      <td>-</td>\n",
       "      <td>-</td>\n",
       "      <td>-99</td>\n",
       "      <td>DC Comics</td>\n",
       "      <td>good</td>\n",
       "      <td>NaN</td>\n",
       "    </tr>\n",
       "    <tr>\n",
       "      <th>211</th>\n",
       "      <td>Wonder Girl</td>\n",
       "      <td>Female</td>\n",
       "      <td>blue</td>\n",
       "      <td>Demi-God</td>\n",
       "      <td>Blond</td>\n",
       "      <td>165</td>\n",
       "      <td>DC Comics</td>\n",
       "      <td>good</td>\n",
       "      <td>51.0</td>\n",
       "    </tr>\n",
       "    <tr>\n",
       "      <th>212</th>\n",
       "      <td>Wonder Woman</td>\n",
       "      <td>Female</td>\n",
       "      <td>blue</td>\n",
       "      <td>Amazon</td>\n",
       "      <td>Black</td>\n",
       "      <td>183</td>\n",
       "      <td>DC Comics</td>\n",
       "      <td>good</td>\n",
       "      <td>74.0</td>\n",
       "    </tr>\n",
       "    <tr>\n",
       "      <th>213</th>\n",
       "      <td>Zatanna</td>\n",
       "      <td>Female</td>\n",
       "      <td>blue</td>\n",
       "      <td>Human</td>\n",
       "      <td>Black</td>\n",
       "      <td>170</td>\n",
       "      <td>DC Comics</td>\n",
       "      <td>good</td>\n",
       "      <td>57.0</td>\n",
       "    </tr>\n",
       "    <tr>\n",
       "      <th>214</th>\n",
       "      <td>Zoom</td>\n",
       "      <td>Male</td>\n",
       "      <td>red</td>\n",
       "      <td>-</td>\n",
       "      <td>Brown</td>\n",
       "      <td>185</td>\n",
       "      <td>DC Comics</td>\n",
       "      <td>bad</td>\n",
       "      <td>81.0</td>\n",
       "    </tr>\n",
       "  </tbody>\n",
       "</table>\n",
       "</div>"
      ],
      "text/plain": [
       "             name  Gender Eye color      Race Hair color  Height  Publisher  \\\n",
       "205      Two-Face    Male         -         -          -     183  DC Comics   \n",
       "206          Vibe    Male     brown     Human      Black     178  DC Comics   \n",
       "207         Vixen  Female     amber     Human      Black     175  DC Comics   \n",
       "208          Warp    Male     brown         -      Black     173  DC Comics   \n",
       "209  White Canary  Female     brown     Human      Black     -99  DC Comics   \n",
       "210      Wildfire    Male         -         -          -     -99  DC Comics   \n",
       "211   Wonder Girl  Female      blue  Demi-God      Blond     165  DC Comics   \n",
       "212  Wonder Woman  Female      blue    Amazon      Black     183  DC Comics   \n",
       "213       Zatanna  Female      blue     Human      Black     170  DC Comics   \n",
       "214          Zoom    Male       red         -      Brown     185  DC Comics   \n",
       "\n",
       "    Alignment  Weight  \n",
       "205       bad    82.0  \n",
       "206      good    71.0  \n",
       "207      good    63.0  \n",
       "208       bad    67.0  \n",
       "209       bad     NaN  \n",
       "210      good     NaN  \n",
       "211      good    51.0  \n",
       "212      good    74.0  \n",
       "213      good    57.0  \n",
       "214       bad    81.0  "
      ]
     },
     "execution_count": 12,
     "metadata": {},
     "output_type": "execute_result"
    }
   ],
   "source": [
    "hero_dc.tail(10)"
   ]
  },
  {
   "cell_type": "code",
   "execution_count": 13,
   "id": "af51e823-500d-4ee5-843e-4ee1d317b985",
   "metadata": {},
   "outputs": [
    {
     "name": "stdout",
     "output_type": "stream",
     "text": [
      "<class 'pandas.core.frame.DataFrame'>\n",
      "RangeIndex: 215 entries, 0 to 214\n",
      "Data columns (total 9 columns):\n",
      " #   Column      Non-Null Count  Dtype  \n",
      "---  ------      --------------  -----  \n",
      " 0   name        215 non-null    object \n",
      " 1   Gender      215 non-null    object \n",
      " 2   Eye color   215 non-null    object \n",
      " 3   Race        215 non-null    object \n",
      " 4   Hair color  215 non-null    object \n",
      " 5   Height      215 non-null    int64  \n",
      " 6   Publisher   215 non-null    object \n",
      " 7   Alignment   215 non-null    object \n",
      " 8   Weight      144 non-null    float64\n",
      "dtypes: float64(1), int64(1), object(7)\n",
      "memory usage: 15.2+ KB\n"
     ]
    }
   ],
   "source": [
    "hero_dc.info()"
   ]
  },
  {
   "cell_type": "code",
   "execution_count": 16,
   "id": "79ac4611-f2b4-40dd-8b52-43270d3792f4",
   "metadata": {},
   "outputs": [
    {
     "name": "stdout",
     "output_type": "stream",
     "text": [
      "<class 'pandas.core.frame.DataFrame'>\n",
      "RangeIndex: 388 entries, 0 to 387\n",
      "Data columns (total 9 columns):\n",
      " #   Column      Non-Null Count  Dtype \n",
      "---  ------      --------------  ----- \n",
      " 0   name        388 non-null    object\n",
      " 1   Gender      388 non-null    object\n",
      " 2   Eye color   388 non-null    object\n",
      " 3   Race        388 non-null    object\n",
      " 4   Hair color  388 non-null    object\n",
      " 5   Height      388 non-null    int64 \n",
      " 6   Publisher   388 non-null    object\n",
      " 7   Alignment   388 non-null    object\n",
      " 8   Weight      388 non-null    int64 \n",
      "dtypes: int64(2), object(7)\n",
      "memory usage: 27.4+ KB\n"
     ]
    }
   ],
   "source": [
    "hero_marvel.info()"
   ]
  },
  {
   "cell_type": "code",
   "execution_count": 18,
   "id": "65f9a12b-2d57-40ea-b4d8-59b74d185dcd",
   "metadata": {},
   "outputs": [
    {
     "data": {
      "text/plain": [
       "Index(['hero_names', 'Agility', 'Accelerated Healing', 'Lantern Power Ring',\n",
       "       'Dimensional Awareness', 'Cold Resistance', 'Durability', 'Stealth',\n",
       "       'Energy Absorption', 'Flight',\n",
       "       ...\n",
       "       'Web Creation', 'Reality Warping', 'Odin Force', 'Symbiote Costume',\n",
       "       'Speed Force', 'Phoenix Force', 'Molecular Dissipation',\n",
       "       'Vision - Cryo', 'Omnipresent', 'Omniscient'],\n",
       "      dtype='object', length=168)"
      ]
     },
     "execution_count": 18,
     "metadata": {},
     "output_type": "execute_result"
    }
   ],
   "source": [
    "hero_powers.columns"
   ]
  },
  {
   "cell_type": "code",
   "execution_count": 19,
   "id": "eb24d60b-23b2-47cb-afbb-f7df8bb22e6d",
   "metadata": {},
   "outputs": [
    {
     "data": {
      "text/plain": [
       "(667, 168)"
      ]
     },
     "execution_count": 19,
     "metadata": {},
     "output_type": "execute_result"
    }
   ],
   "source": [
    "hero_powers.shape"
   ]
  },
  {
   "cell_type": "code",
   "execution_count": 20,
   "id": "449f0db7-8988-45d1-94ea-621d0f326718",
   "metadata": {},
   "outputs": [
    {
     "data": {
      "text/plain": [
       "RangeIndex(start=0, stop=667, step=1)"
      ]
     },
     "execution_count": 20,
     "metadata": {},
     "output_type": "execute_result"
    }
   ],
   "source": [
    "hero_powers.index"
   ]
  }
 ],
 "metadata": {
  "kernelspec": {
   "display_name": "Python 3 (ipykernel)",
   "language": "python",
   "name": "python3"
  },
  "language_info": {
   "codemirror_mode": {
    "name": "ipython",
    "version": 3
   },
   "file_extension": ".py",
   "mimetype": "text/x-python",
   "name": "python",
   "nbconvert_exporter": "python",
   "pygments_lexer": "ipython3",
   "version": "3.9.13"
  }
 },
 "nbformat": 4,
 "nbformat_minor": 5
}
