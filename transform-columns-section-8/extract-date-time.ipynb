{
 "cells": [
  {
   "cell_type": "code",
   "execution_count": 2,
   "metadata": {},
   "outputs": [],
   "source": [
    "import pandas as pd"
   ]
  },
  {
   "cell_type": "code",
   "execution_count": 3,
   "metadata": {},
   "outputs": [],
   "source": [
    "air_quality = pd.read_csv(\"air_quality.csv\")"
   ]
  },
  {
   "cell_type": "code",
   "execution_count": 5,
   "metadata": {},
   "outputs": [
    {
     "name": "stdout",
     "output_type": "stream",
     "text": [
      "<class 'pandas.core.frame.DataFrame'>\n",
      "RangeIndex: 95685 entries, 0 to 95684\n",
      "Data columns (total 14 columns):\n",
      " #   Column     Non-Null Count  Dtype  \n",
      "---  ------     --------------  -----  \n",
      " 0   date_time  95685 non-null  object \n",
      " 1   PM2.5      95685 non-null  float64\n",
      " 2   PM10       95685 non-null  float64\n",
      " 3   SO2        95685 non-null  float64\n",
      " 4   NO2        95685 non-null  float64\n",
      " 5   CO         95685 non-null  float64\n",
      " 6   O3         95685 non-null  float64\n",
      " 7   TEMP       95685 non-null  float64\n",
      " 8   PRES       95685 non-null  float64\n",
      " 9   DEWP       95685 non-null  float64\n",
      " 10  RAIN       95685 non-null  float64\n",
      " 11  wd         95685 non-null  object \n",
      " 12  WSPM       95685 non-null  float64\n",
      " 13  station    95685 non-null  object \n",
      "dtypes: float64(11), object(3)\n",
      "memory usage: 10.2+ MB\n"
     ]
    }
   ],
   "source": [
    "air_quality.info()"
   ]
  },
  {
   "cell_type": "code",
   "execution_count": 7,
   "metadata": {},
   "outputs": [
    {
     "data": {
      "text/html": [
       "<div>\n",
       "<style scoped>\n",
       "    .dataframe tbody tr th:only-of-type {\n",
       "        vertical-align: middle;\n",
       "    }\n",
       "\n",
       "    .dataframe tbody tr th {\n",
       "        vertical-align: top;\n",
       "    }\n",
       "\n",
       "    .dataframe thead th {\n",
       "        text-align: right;\n",
       "    }\n",
       "</style>\n",
       "<table border=\"1\" class=\"dataframe\">\n",
       "  <thead>\n",
       "    <tr style=\"text-align: right;\">\n",
       "      <th></th>\n",
       "      <th>date_time</th>\n",
       "      <th>PM2.5</th>\n",
       "      <th>PM10</th>\n",
       "      <th>SO2</th>\n",
       "      <th>NO2</th>\n",
       "      <th>CO</th>\n",
       "      <th>O3</th>\n",
       "      <th>TEMP</th>\n",
       "      <th>PRES</th>\n",
       "      <th>DEWP</th>\n",
       "      <th>RAIN</th>\n",
       "      <th>wd</th>\n",
       "      <th>WSPM</th>\n",
       "      <th>station</th>\n",
       "    </tr>\n",
       "  </thead>\n",
       "  <tbody>\n",
       "    <tr>\n",
       "      <th>0</th>\n",
       "      <td>2013-03-01 00:00:00</td>\n",
       "      <td>9.0</td>\n",
       "      <td>9.0</td>\n",
       "      <td>3.0</td>\n",
       "      <td>17.0</td>\n",
       "      <td>300.0</td>\n",
       "      <td>89.0</td>\n",
       "      <td>-0.5</td>\n",
       "      <td>1024.5</td>\n",
       "      <td>-21.4</td>\n",
       "      <td>0.0</td>\n",
       "      <td>NNW</td>\n",
       "      <td>5.7</td>\n",
       "      <td>Dongsi</td>\n",
       "    </tr>\n",
       "    <tr>\n",
       "      <th>1</th>\n",
       "      <td>2013-03-01 01:00:00</td>\n",
       "      <td>4.0</td>\n",
       "      <td>4.0</td>\n",
       "      <td>3.0</td>\n",
       "      <td>16.0</td>\n",
       "      <td>300.0</td>\n",
       "      <td>88.0</td>\n",
       "      <td>-0.7</td>\n",
       "      <td>1025.1</td>\n",
       "      <td>-22.1</td>\n",
       "      <td>0.0</td>\n",
       "      <td>NW</td>\n",
       "      <td>3.9</td>\n",
       "      <td>Dongsi</td>\n",
       "    </tr>\n",
       "    <tr>\n",
       "      <th>2</th>\n",
       "      <td>2013-03-01 05:00:00</td>\n",
       "      <td>4.0</td>\n",
       "      <td>4.0</td>\n",
       "      <td>9.0</td>\n",
       "      <td>25.0</td>\n",
       "      <td>300.0</td>\n",
       "      <td>78.0</td>\n",
       "      <td>-2.4</td>\n",
       "      <td>1027.5</td>\n",
       "      <td>-21.3</td>\n",
       "      <td>0.0</td>\n",
       "      <td>NW</td>\n",
       "      <td>2.4</td>\n",
       "      <td>Dongsi</td>\n",
       "    </tr>\n",
       "    <tr>\n",
       "      <th>3</th>\n",
       "      <td>2013-03-01 06:00:00</td>\n",
       "      <td>5.0</td>\n",
       "      <td>5.0</td>\n",
       "      <td>10.0</td>\n",
       "      <td>29.0</td>\n",
       "      <td>400.0</td>\n",
       "      <td>67.0</td>\n",
       "      <td>-2.5</td>\n",
       "      <td>1028.2</td>\n",
       "      <td>-20.4</td>\n",
       "      <td>0.0</td>\n",
       "      <td>NW</td>\n",
       "      <td>2.2</td>\n",
       "      <td>Dongsi</td>\n",
       "    </tr>\n",
       "    <tr>\n",
       "      <th>4</th>\n",
       "      <td>2013-03-01 07:00:00</td>\n",
       "      <td>3.0</td>\n",
       "      <td>6.0</td>\n",
       "      <td>12.0</td>\n",
       "      <td>40.0</td>\n",
       "      <td>400.0</td>\n",
       "      <td>52.0</td>\n",
       "      <td>-1.4</td>\n",
       "      <td>1029.5</td>\n",
       "      <td>-20.4</td>\n",
       "      <td>0.0</td>\n",
       "      <td>NNW</td>\n",
       "      <td>3.0</td>\n",
       "      <td>Dongsi</td>\n",
       "    </tr>\n",
       "  </tbody>\n",
       "</table>\n",
       "</div>"
      ],
      "text/plain": [
       "             date_time  PM2.5  PM10   SO2   NO2     CO    O3  TEMP    PRES   \n",
       "0  2013-03-01 00:00:00    9.0   9.0   3.0  17.0  300.0  89.0  -0.5  1024.5  \\\n",
       "1  2013-03-01 01:00:00    4.0   4.0   3.0  16.0  300.0  88.0  -0.7  1025.1   \n",
       "2  2013-03-01 05:00:00    4.0   4.0   9.0  25.0  300.0  78.0  -2.4  1027.5   \n",
       "3  2013-03-01 06:00:00    5.0   5.0  10.0  29.0  400.0  67.0  -2.5  1028.2   \n",
       "4  2013-03-01 07:00:00    3.0   6.0  12.0  40.0  400.0  52.0  -1.4  1029.5   \n",
       "\n",
       "   DEWP  RAIN   wd  WSPM station  \n",
       "0 -21.4   0.0  NNW   5.7  Dongsi  \n",
       "1 -22.1   0.0   NW   3.9  Dongsi  \n",
       "2 -21.3   0.0   NW   2.4  Dongsi  \n",
       "3 -20.4   0.0   NW   2.2  Dongsi  \n",
       "4 -20.4   0.0  NNW   3.0  Dongsi  "
      ]
     },
     "execution_count": 7,
     "metadata": {},
     "output_type": "execute_result"
    }
   ],
   "source": [
    "air_quality.head()"
   ]
  },
  {
   "cell_type": "code",
   "execution_count": 9,
   "metadata": {},
   "outputs": [],
   "source": [
    "air_quality['date_time']=pd.to_datetime(air_quality['date_time'])"
   ]
  },
  {
   "cell_type": "code",
   "execution_count": 11,
   "metadata": {},
   "outputs": [
    {
     "name": "stdout",
     "output_type": "stream",
     "text": [
      "<class 'pandas.core.frame.DataFrame'>\n",
      "RangeIndex: 95685 entries, 0 to 95684\n",
      "Data columns (total 14 columns):\n",
      " #   Column     Non-Null Count  Dtype         \n",
      "---  ------     --------------  -----         \n",
      " 0   date_time  95685 non-null  datetime64[ns]\n",
      " 1   PM2.5      95685 non-null  float64       \n",
      " 2   PM10       95685 non-null  float64       \n",
      " 3   SO2        95685 non-null  float64       \n",
      " 4   NO2        95685 non-null  float64       \n",
      " 5   CO         95685 non-null  float64       \n",
      " 6   O3         95685 non-null  float64       \n",
      " 7   TEMP       95685 non-null  float64       \n",
      " 8   PRES       95685 non-null  float64       \n",
      " 9   DEWP       95685 non-null  float64       \n",
      " 10  RAIN       95685 non-null  float64       \n",
      " 11  wd         95685 non-null  object        \n",
      " 12  WSPM       95685 non-null  float64       \n",
      " 13  station    95685 non-null  object        \n",
      "dtypes: datetime64[ns](1), float64(11), object(2)\n",
      "memory usage: 10.2+ MB\n"
     ]
    }
   ],
   "source": [
    "air_quality.info()"
   ]
  },
  {
   "cell_type": "code",
   "execution_count": 13,
   "metadata": {},
   "outputs": [
    {
     "data": {
      "text/html": [
       "<div>\n",
       "<style scoped>\n",
       "    .dataframe tbody tr th:only-of-type {\n",
       "        vertical-align: middle;\n",
       "    }\n",
       "\n",
       "    .dataframe tbody tr th {\n",
       "        vertical-align: top;\n",
       "    }\n",
       "\n",
       "    .dataframe thead th {\n",
       "        text-align: right;\n",
       "    }\n",
       "</style>\n",
       "<table border=\"1\" class=\"dataframe\">\n",
       "  <thead>\n",
       "    <tr style=\"text-align: right;\">\n",
       "      <th></th>\n",
       "      <th>date_time</th>\n",
       "      <th>year</th>\n",
       "      <th>month</th>\n",
       "      <th>day</th>\n",
       "      <th>hour</th>\n",
       "      <th>quarter</th>\n",
       "      <th>day_of_week_num</th>\n",
       "      <th>day_of_week_name</th>\n",
       "    </tr>\n",
       "  </thead>\n",
       "  <tbody>\n",
       "    <tr>\n",
       "      <th>0</th>\n",
       "      <td>2013-03-01 00:00:00</td>\n",
       "      <td>2013</td>\n",
       "      <td>3</td>\n",
       "      <td>1</td>\n",
       "      <td>0</td>\n",
       "      <td>1</td>\n",
       "      <td>4</td>\n",
       "      <td>Friday</td>\n",
       "    </tr>\n",
       "    <tr>\n",
       "      <th>1</th>\n",
       "      <td>2013-03-01 01:00:00</td>\n",
       "      <td>2013</td>\n",
       "      <td>3</td>\n",
       "      <td>1</td>\n",
       "      <td>1</td>\n",
       "      <td>1</td>\n",
       "      <td>4</td>\n",
       "      <td>Friday</td>\n",
       "    </tr>\n",
       "    <tr>\n",
       "      <th>2</th>\n",
       "      <td>2013-03-01 05:00:00</td>\n",
       "      <td>2013</td>\n",
       "      <td>3</td>\n",
       "      <td>1</td>\n",
       "      <td>5</td>\n",
       "      <td>1</td>\n",
       "      <td>4</td>\n",
       "      <td>Friday</td>\n",
       "    </tr>\n",
       "    <tr>\n",
       "      <th>3</th>\n",
       "      <td>2013-03-01 06:00:00</td>\n",
       "      <td>2013</td>\n",
       "      <td>3</td>\n",
       "      <td>1</td>\n",
       "      <td>6</td>\n",
       "      <td>1</td>\n",
       "      <td>4</td>\n",
       "      <td>Friday</td>\n",
       "    </tr>\n",
       "    <tr>\n",
       "      <th>4</th>\n",
       "      <td>2013-03-01 07:00:00</td>\n",
       "      <td>2013</td>\n",
       "      <td>3</td>\n",
       "      <td>1</td>\n",
       "      <td>7</td>\n",
       "      <td>1</td>\n",
       "      <td>4</td>\n",
       "      <td>Friday</td>\n",
       "    </tr>\n",
       "    <tr>\n",
       "      <th>...</th>\n",
       "      <td>...</td>\n",
       "      <td>...</td>\n",
       "      <td>...</td>\n",
       "      <td>...</td>\n",
       "      <td>...</td>\n",
       "      <td>...</td>\n",
       "      <td>...</td>\n",
       "      <td>...</td>\n",
       "    </tr>\n",
       "    <tr>\n",
       "      <th>95680</th>\n",
       "      <td>2017-02-28 15:00:00</td>\n",
       "      <td>2017</td>\n",
       "      <td>2</td>\n",
       "      <td>28</td>\n",
       "      <td>15</td>\n",
       "      <td>1</td>\n",
       "      <td>1</td>\n",
       "      <td>Tuesday</td>\n",
       "    </tr>\n",
       "    <tr>\n",
       "      <th>95681</th>\n",
       "      <td>2017-02-28 16:00:00</td>\n",
       "      <td>2017</td>\n",
       "      <td>2</td>\n",
       "      <td>28</td>\n",
       "      <td>16</td>\n",
       "      <td>1</td>\n",
       "      <td>1</td>\n",
       "      <td>Tuesday</td>\n",
       "    </tr>\n",
       "    <tr>\n",
       "      <th>95682</th>\n",
       "      <td>2017-02-28 21:00:00</td>\n",
       "      <td>2017</td>\n",
       "      <td>2</td>\n",
       "      <td>28</td>\n",
       "      <td>21</td>\n",
       "      <td>1</td>\n",
       "      <td>1</td>\n",
       "      <td>Tuesday</td>\n",
       "    </tr>\n",
       "    <tr>\n",
       "      <th>95683</th>\n",
       "      <td>2017-02-28 22:00:00</td>\n",
       "      <td>2017</td>\n",
       "      <td>2</td>\n",
       "      <td>28</td>\n",
       "      <td>22</td>\n",
       "      <td>1</td>\n",
       "      <td>1</td>\n",
       "      <td>Tuesday</td>\n",
       "    </tr>\n",
       "    <tr>\n",
       "      <th>95684</th>\n",
       "      <td>2017-02-28 23:00:00</td>\n",
       "      <td>2017</td>\n",
       "      <td>2</td>\n",
       "      <td>28</td>\n",
       "      <td>23</td>\n",
       "      <td>1</td>\n",
       "      <td>1</td>\n",
       "      <td>Tuesday</td>\n",
       "    </tr>\n",
       "  </tbody>\n",
       "</table>\n",
       "<p>95685 rows × 8 columns</p>\n",
       "</div>"
      ],
      "text/plain": [
       "                date_time  year  month  day  hour  quarter  day_of_week_num   \n",
       "0     2013-03-01 00:00:00  2013      3    1     0        1                4  \\\n",
       "1     2013-03-01 01:00:00  2013      3    1     1        1                4   \n",
       "2     2013-03-01 05:00:00  2013      3    1     5        1                4   \n",
       "3     2013-03-01 06:00:00  2013      3    1     6        1                4   \n",
       "4     2013-03-01 07:00:00  2013      3    1     7        1                4   \n",
       "...                   ...   ...    ...  ...   ...      ...              ...   \n",
       "95680 2017-02-28 15:00:00  2017      2   28    15        1                1   \n",
       "95681 2017-02-28 16:00:00  2017      2   28    16        1                1   \n",
       "95682 2017-02-28 21:00:00  2017      2   28    21        1                1   \n",
       "95683 2017-02-28 22:00:00  2017      2   28    22        1                1   \n",
       "95684 2017-02-28 23:00:00  2017      2   28    23        1                1   \n",
       "\n",
       "      day_of_week_name  \n",
       "0               Friday  \n",
       "1               Friday  \n",
       "2               Friday  \n",
       "3               Friday  \n",
       "4               Friday  \n",
       "...                ...  \n",
       "95680          Tuesday  \n",
       "95681          Tuesday  \n",
       "95682          Tuesday  \n",
       "95683          Tuesday  \n",
       "95684          Tuesday  \n",
       "\n",
       "[95685 rows x 8 columns]"
      ]
     },
     "execution_count": 13,
     "metadata": {},
     "output_type": "execute_result"
    }
   ],
   "source": [
    "air_quality['year'] = air_quality['date_time'].dt.year\n",
    "air_quality['month'] = air_quality['date_time'].dt.month\n",
    "air_quality['day'] = air_quality['date_time'].dt.day\n",
    "air_quality['hour'] = air_quality['date_time'].dt.hour\n",
    "air_quality['quarter'] = air_quality['date_time'].dt.quarter\n",
    "air_quality['day_of_week_num'] = air_quality['date_time'].dt.dayofweek\n",
    "air_quality['day_of_week_name'] = air_quality['date_time'].dt.day_name()\n",
    "\n",
    "air_quality[['date_time', 'year', 'month', 'day', 'hour', 'quarter', 'day_of_week_num', 'day_of_week_name']]"
   ]
  },
  {
   "cell_type": "code",
   "execution_count": 15,
   "metadata": {},
   "outputs": [
    {
     "data": {
      "text/plain": [
       "day_of_week_num  day_of_week_name\n",
       "6                Sunday              13931\n",
       "5                Saturday            13812\n",
       "4                Friday              13782\n",
       "3                Thursday            13633\n",
       "0                Monday              13536\n",
       "1                Tuesday             13523\n",
       "2                Wednesday           13468\n",
       "Name: count, dtype: int64"
      ]
     },
     "execution_count": 15,
     "metadata": {},
     "output_type": "execute_result"
    }
   ],
   "source": [
    "air_quality[['day_of_week_num', 'day_of_week_name']].value_counts()"
   ]
  },
  {
   "cell_type": "code",
   "execution_count": 16,
   "metadata": {},
   "outputs": [
    {
     "data": {
      "text/plain": [
       "Timestamp('2017-02-28 23:00:00')"
      ]
     },
     "execution_count": 16,
     "metadata": {},
     "output_type": "execute_result"
    }
   ],
   "source": [
    "air_quality['date_time'].max()"
   ]
  },
  {
   "cell_type": "code",
   "execution_count": 17,
   "metadata": {},
   "outputs": [
    {
     "data": {
      "text/plain": [
       "Timestamp('2013-03-01 00:00:00')"
      ]
     },
     "execution_count": 17,
     "metadata": {},
     "output_type": "execute_result"
    }
   ],
   "source": [
    "air_quality['date_time'].min()"
   ]
  },
  {
   "cell_type": "code",
   "execution_count": 18,
   "metadata": {},
   "outputs": [
    {
     "data": {
      "text/plain": [
       "Timedelta('1460 days 23:00:00')"
      ]
     },
     "execution_count": 18,
     "metadata": {},
     "output_type": "execute_result"
    }
   ],
   "source": [
    "air_quality['date_time'].max() - air_quality['date_time'].min()"
   ]
  },
  {
   "cell_type": "code",
   "execution_count": 19,
   "metadata": {},
   "outputs": [],
   "source": [
    "date_time_range = air_quality['date_time'].max() - air_quality['date_time'].min()"
   ]
  },
  {
   "cell_type": "code",
   "execution_count": 20,
   "metadata": {},
   "outputs": [
    {
     "data": {
      "text/plain": [
       "Timedelta('1 days 00:00:00')"
      ]
     },
     "execution_count": 20,
     "metadata": {},
     "output_type": "execute_result"
    }
   ],
   "source": [
    "pd.Timedelta(days=1)"
   ]
  },
  {
   "cell_type": "code",
   "execution_count": 21,
   "metadata": {},
   "outputs": [
    {
     "data": {
      "text/plain": [
       "1460.9583333333333"
      ]
     },
     "execution_count": 21,
     "metadata": {},
     "output_type": "execute_result"
    }
   ],
   "source": [
    "date_time_range/pd.Timedelta(days=1)"
   ]
  },
  {
   "cell_type": "code",
   "execution_count": 22,
   "metadata": {},
   "outputs": [
    {
     "data": {
      "text/plain": [
       "4.002625570776256"
      ]
     },
     "execution_count": 22,
     "metadata": {},
     "output_type": "execute_result"
    }
   ],
   "source": [
    "date_time_range/pd.Timedelta(days=365)"
   ]
  },
  {
   "cell_type": "code",
   "execution_count": 23,
   "metadata": {},
   "outputs": [
    {
     "data": {
      "text/plain": [
       "Timestamp('2022-01-01 00:00:00')"
      ]
     },
     "execution_count": 23,
     "metadata": {},
     "output_type": "execute_result"
    }
   ],
   "source": [
    "pd.Timestamp('2022/01/01')"
   ]
  },
  {
   "cell_type": "code",
   "execution_count": 25,
   "metadata": {},
   "outputs": [
    {
     "data": {
      "text/plain": [
       "0       3228 days 00:00:00\n",
       "1       3227 days 23:00:00\n",
       "2       3227 days 19:00:00\n",
       "3       3227 days 18:00:00\n",
       "4       3227 days 17:00:00\n",
       "               ...        \n",
       "95680   1767 days 09:00:00\n",
       "95681   1767 days 08:00:00\n",
       "95682   1767 days 03:00:00\n",
       "95683   1767 days 02:00:00\n",
       "95684   1767 days 01:00:00\n",
       "Name: date_time, Length: 95685, dtype: timedelta64[ns]"
      ]
     },
     "execution_count": 25,
     "metadata": {},
     "output_type": "execute_result"
    }
   ],
   "source": [
    "pd.Timestamp('2022/01/01') - air_quality['date_time']"
   ]
  },
  {
   "cell_type": "code",
   "execution_count": 26,
   "metadata": {},
   "outputs": [],
   "source": [
    "air_quality['time_until_2022'] = pd.Timestamp('2022/01/01') - air_quality['date_time']"
   ]
  },
  {
   "cell_type": "code",
   "execution_count": 27,
   "metadata": {},
   "outputs": [
    {
     "data": {
      "text/plain": [
       "0        3228.000000\n",
       "1        3227.958333\n",
       "2        3227.791667\n",
       "3        3227.750000\n",
       "4        3227.708333\n",
       "            ...     \n",
       "95680    1767.375000\n",
       "95681    1767.333333\n",
       "95682    1767.125000\n",
       "95683    1767.083333\n",
       "95684    1767.041667\n",
       "Name: time_until_2022, Length: 95685, dtype: float64"
      ]
     },
     "execution_count": 27,
     "metadata": {},
     "output_type": "execute_result"
    }
   ],
   "source": [
    "air_quality['time_until_2022'] / pd.Timedelta(days=1)"
   ]
  },
  {
   "cell_type": "code",
   "execution_count": 28,
   "metadata": {},
   "outputs": [],
   "source": [
    "air_quality['time_until_2022_days'] = air_quality['time_until_2022'] / pd.Timedelta(days=1)\n",
    "air_quality['time_until_2022_weeks'] = air_quality['time_until_2022'] / pd.Timedelta(weeks=1)"
   ]
  },
  {
   "cell_type": "code",
   "execution_count": 29,
   "metadata": {},
   "outputs": [
    {
     "data": {
      "text/html": [
       "<div>\n",
       "<style scoped>\n",
       "    .dataframe tbody tr th:only-of-type {\n",
       "        vertical-align: middle;\n",
       "    }\n",
       "\n",
       "    .dataframe tbody tr th {\n",
       "        vertical-align: top;\n",
       "    }\n",
       "\n",
       "    .dataframe thead th {\n",
       "        text-align: right;\n",
       "    }\n",
       "</style>\n",
       "<table border=\"1\" class=\"dataframe\">\n",
       "  <thead>\n",
       "    <tr style=\"text-align: right;\">\n",
       "      <th></th>\n",
       "      <th>date_time</th>\n",
       "      <th>time_until_2022</th>\n",
       "      <th>time_until_2022_days</th>\n",
       "      <th>time_until_2022_weeks</th>\n",
       "    </tr>\n",
       "  </thead>\n",
       "  <tbody>\n",
       "    <tr>\n",
       "      <th>0</th>\n",
       "      <td>2013-03-01 00:00:00</td>\n",
       "      <td>3228 days 00:00:00</td>\n",
       "      <td>3228.000000</td>\n",
       "      <td>461.142857</td>\n",
       "    </tr>\n",
       "    <tr>\n",
       "      <th>1</th>\n",
       "      <td>2013-03-01 01:00:00</td>\n",
       "      <td>3227 days 23:00:00</td>\n",
       "      <td>3227.958333</td>\n",
       "      <td>461.136905</td>\n",
       "    </tr>\n",
       "    <tr>\n",
       "      <th>2</th>\n",
       "      <td>2013-03-01 05:00:00</td>\n",
       "      <td>3227 days 19:00:00</td>\n",
       "      <td>3227.791667</td>\n",
       "      <td>461.113095</td>\n",
       "    </tr>\n",
       "    <tr>\n",
       "      <th>3</th>\n",
       "      <td>2013-03-01 06:00:00</td>\n",
       "      <td>3227 days 18:00:00</td>\n",
       "      <td>3227.750000</td>\n",
       "      <td>461.107143</td>\n",
       "    </tr>\n",
       "    <tr>\n",
       "      <th>4</th>\n",
       "      <td>2013-03-01 07:00:00</td>\n",
       "      <td>3227 days 17:00:00</td>\n",
       "      <td>3227.708333</td>\n",
       "      <td>461.101190</td>\n",
       "    </tr>\n",
       "    <tr>\n",
       "      <th>...</th>\n",
       "      <td>...</td>\n",
       "      <td>...</td>\n",
       "      <td>...</td>\n",
       "      <td>...</td>\n",
       "    </tr>\n",
       "    <tr>\n",
       "      <th>95680</th>\n",
       "      <td>2017-02-28 15:00:00</td>\n",
       "      <td>1767 days 09:00:00</td>\n",
       "      <td>1767.375000</td>\n",
       "      <td>252.482143</td>\n",
       "    </tr>\n",
       "    <tr>\n",
       "      <th>95681</th>\n",
       "      <td>2017-02-28 16:00:00</td>\n",
       "      <td>1767 days 08:00:00</td>\n",
       "      <td>1767.333333</td>\n",
       "      <td>252.476190</td>\n",
       "    </tr>\n",
       "    <tr>\n",
       "      <th>95682</th>\n",
       "      <td>2017-02-28 21:00:00</td>\n",
       "      <td>1767 days 03:00:00</td>\n",
       "      <td>1767.125000</td>\n",
       "      <td>252.446429</td>\n",
       "    </tr>\n",
       "    <tr>\n",
       "      <th>95683</th>\n",
       "      <td>2017-02-28 22:00:00</td>\n",
       "      <td>1767 days 02:00:00</td>\n",
       "      <td>1767.083333</td>\n",
       "      <td>252.440476</td>\n",
       "    </tr>\n",
       "    <tr>\n",
       "      <th>95684</th>\n",
       "      <td>2017-02-28 23:00:00</td>\n",
       "      <td>1767 days 01:00:00</td>\n",
       "      <td>1767.041667</td>\n",
       "      <td>252.434524</td>\n",
       "    </tr>\n",
       "  </tbody>\n",
       "</table>\n",
       "<p>95685 rows × 4 columns</p>\n",
       "</div>"
      ],
      "text/plain": [
       "                date_time    time_until_2022  time_until_2022_days   \n",
       "0     2013-03-01 00:00:00 3228 days 00:00:00           3228.000000  \\\n",
       "1     2013-03-01 01:00:00 3227 days 23:00:00           3227.958333   \n",
       "2     2013-03-01 05:00:00 3227 days 19:00:00           3227.791667   \n",
       "3     2013-03-01 06:00:00 3227 days 18:00:00           3227.750000   \n",
       "4     2013-03-01 07:00:00 3227 days 17:00:00           3227.708333   \n",
       "...                   ...                ...                   ...   \n",
       "95680 2017-02-28 15:00:00 1767 days 09:00:00           1767.375000   \n",
       "95681 2017-02-28 16:00:00 1767 days 08:00:00           1767.333333   \n",
       "95682 2017-02-28 21:00:00 1767 days 03:00:00           1767.125000   \n",
       "95683 2017-02-28 22:00:00 1767 days 02:00:00           1767.083333   \n",
       "95684 2017-02-28 23:00:00 1767 days 01:00:00           1767.041667   \n",
       "\n",
       "       time_until_2022_weeks  \n",
       "0                 461.142857  \n",
       "1                 461.136905  \n",
       "2                 461.113095  \n",
       "3                 461.107143  \n",
       "4                 461.101190  \n",
       "...                      ...  \n",
       "95680             252.482143  \n",
       "95681             252.476190  \n",
       "95682             252.446429  \n",
       "95683             252.440476  \n",
       "95684             252.434524  \n",
       "\n",
       "[95685 rows x 4 columns]"
      ]
     },
     "execution_count": 29,
     "metadata": {},
     "output_type": "execute_result"
    }
   ],
   "source": [
    "air_quality[['date_time', 'time_until_2022', 'time_until_2022_days', 'time_until_2022_weeks']]"
   ]
  },
  {
   "cell_type": "code",
   "execution_count": 30,
   "metadata": {},
   "outputs": [
    {
     "data": {
      "text/plain": [
       "461.14285714285717"
      ]
     },
     "execution_count": 30,
     "metadata": {},
     "output_type": "execute_result"
    }
   ],
   "source": [
    "3228/7"
   ]
  },
  {
   "cell_type": "code",
   "execution_count": 32,
   "metadata": {},
   "outputs": [],
   "source": [
    "air_quality['prior_2016_ind'] = air_quality['date_time']<pd.Timestamp('2016/01/01')"
   ]
  },
  {
   "cell_type": "code",
   "execution_count": 33,
   "metadata": {},
   "outputs": [
    {
     "data": {
      "text/html": [
       "<div>\n",
       "<style scoped>\n",
       "    .dataframe tbody tr th:only-of-type {\n",
       "        vertical-align: middle;\n",
       "    }\n",
       "\n",
       "    .dataframe tbody tr th {\n",
       "        vertical-align: top;\n",
       "    }\n",
       "\n",
       "    .dataframe thead th {\n",
       "        text-align: right;\n",
       "    }\n",
       "</style>\n",
       "<table border=\"1\" class=\"dataframe\">\n",
       "  <thead>\n",
       "    <tr style=\"text-align: right;\">\n",
       "      <th></th>\n",
       "      <th>date_time</th>\n",
       "      <th>prior_2016_ind</th>\n",
       "    </tr>\n",
       "  </thead>\n",
       "  <tbody>\n",
       "    <tr>\n",
       "      <th>0</th>\n",
       "      <td>2013-03-01 00:00:00</td>\n",
       "      <td>True</td>\n",
       "    </tr>\n",
       "    <tr>\n",
       "      <th>1</th>\n",
       "      <td>2013-03-01 01:00:00</td>\n",
       "      <td>True</td>\n",
       "    </tr>\n",
       "    <tr>\n",
       "      <th>2</th>\n",
       "      <td>2013-03-01 05:00:00</td>\n",
       "      <td>True</td>\n",
       "    </tr>\n",
       "    <tr>\n",
       "      <th>3</th>\n",
       "      <td>2013-03-01 06:00:00</td>\n",
       "      <td>True</td>\n",
       "    </tr>\n",
       "    <tr>\n",
       "      <th>4</th>\n",
       "      <td>2013-03-01 07:00:00</td>\n",
       "      <td>True</td>\n",
       "    </tr>\n",
       "    <tr>\n",
       "      <th>...</th>\n",
       "      <td>...</td>\n",
       "      <td>...</td>\n",
       "    </tr>\n",
       "    <tr>\n",
       "      <th>95680</th>\n",
       "      <td>2017-02-28 15:00:00</td>\n",
       "      <td>False</td>\n",
       "    </tr>\n",
       "    <tr>\n",
       "      <th>95681</th>\n",
       "      <td>2017-02-28 16:00:00</td>\n",
       "      <td>False</td>\n",
       "    </tr>\n",
       "    <tr>\n",
       "      <th>95682</th>\n",
       "      <td>2017-02-28 21:00:00</td>\n",
       "      <td>False</td>\n",
       "    </tr>\n",
       "    <tr>\n",
       "      <th>95683</th>\n",
       "      <td>2017-02-28 22:00:00</td>\n",
       "      <td>False</td>\n",
       "    </tr>\n",
       "    <tr>\n",
       "      <th>95684</th>\n",
       "      <td>2017-02-28 23:00:00</td>\n",
       "      <td>False</td>\n",
       "    </tr>\n",
       "  </tbody>\n",
       "</table>\n",
       "<p>95685 rows × 2 columns</p>\n",
       "</div>"
      ],
      "text/plain": [
       "                date_time  prior_2016_ind\n",
       "0     2013-03-01 00:00:00            True\n",
       "1     2013-03-01 01:00:00            True\n",
       "2     2013-03-01 05:00:00            True\n",
       "3     2013-03-01 06:00:00            True\n",
       "4     2013-03-01 07:00:00            True\n",
       "...                   ...             ...\n",
       "95680 2017-02-28 15:00:00           False\n",
       "95681 2017-02-28 16:00:00           False\n",
       "95682 2017-02-28 21:00:00           False\n",
       "95683 2017-02-28 22:00:00           False\n",
       "95684 2017-02-28 23:00:00           False\n",
       "\n",
       "[95685 rows x 2 columns]"
      ]
     },
     "execution_count": 33,
     "metadata": {},
     "output_type": "execute_result"
    }
   ],
   "source": [
    "air_quality[['date_time', 'prior_2016_ind']]"
   ]
  },
  {
   "cell_type": "code",
   "execution_count": 34,
   "metadata": {},
   "outputs": [
    {
     "data": {
      "text/plain": [
       "Index(['date_time', 'PM2.5', 'PM10', 'SO2', 'NO2', 'CO', 'O3', 'TEMP', 'PRES',\n",
       "       'DEWP', 'RAIN', 'wd', 'WSPM', 'station', 'year', 'month', 'day', 'hour',\n",
       "       'quarter', 'day_of_week_num', 'day_of_week_name', 'time_until_2022',\n",
       "       'time_until_2022_days', 'time_until_2022_weeks', 'prior_2016_ind'],\n",
       "      dtype='object')"
      ]
     },
     "execution_count": 34,
     "metadata": {},
     "output_type": "execute_result"
    }
   ],
   "source": [
    "air_quality.columns"
   ]
  }
 ],
 "metadata": {
  "kernelspec": {
   "display_name": "Python 3",
   "language": "python",
   "name": "python3"
  },
  "language_info": {
   "codemirror_mode": {
    "name": "ipython",
    "version": 3
   },
   "file_extension": ".py",
   "mimetype": "text/x-python",
   "name": "python",
   "nbconvert_exporter": "python",
   "pygments_lexer": "ipython3",
   "version": "3.10.6"
  },
  "orig_nbformat": 4
 },
 "nbformat": 4,
 "nbformat_minor": 2
}
