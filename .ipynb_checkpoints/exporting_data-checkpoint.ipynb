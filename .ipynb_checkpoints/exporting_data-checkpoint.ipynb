{
 "cells": [
  {
   "cell_type": "code",
   "execution_count": 5,
   "id": "c2c00cb3-6a4e-4eb8-9132-52f53838c74c",
   "metadata": {},
   "outputs": [],
   "source": [
    "import pandas as pd"
   ]
  },
  {
   "cell_type": "code",
   "execution_count": 15,
   "id": "a156a09f-d35f-4ca6-90be-1ba387c20b14",
   "metadata": {},
   "outputs": [],
   "source": [
    "hero_dc=pd.read_excel('superhero_info.xlsx', sheet_name='DC Comics')\n",
    "hero_powers=pd.read_csv('superhero_powers.csv')\n",
    "hero_marvel=pd.read_excel('superhero_info.xlsx', sheet_name='Marvel Comics')"
   ]
  },
  {
   "cell_type": "code",
   "execution_count": 16,
   "id": "446aed5a-75ed-400d-a239-a756c86cb621",
   "metadata": {},
   "outputs": [],
   "source": [
    "hero_dc.to_csv('hero_dc.csv', index=False)"
   ]
  },
  {
   "cell_type": "code",
   "execution_count": 17,
   "id": "e75e0027-6339-44d7-8c41-656d0e4d1f23",
   "metadata": {},
   "outputs": [],
   "source": [
    "hero_dc.to_pickle('hero_dc.pkl')"
   ]
  },
  {
   "cell_type": "code",
   "execution_count": 18,
   "id": "d6f4bfa8-08d1-4d67-be65-22d1047a3254",
   "metadata": {},
   "outputs": [],
   "source": [
    "hero_dc_csv=pd.read_csv('hero_dc.csv')"
   ]
  },
  {
   "cell_type": "code",
   "execution_count": 19,
   "id": "d3e4180c-e51e-43e0-b059-78a4d10d5ae2",
   "metadata": {},
   "outputs": [
    {
     "name": "stdout",
     "output_type": "stream",
     "text": [
      "<class 'pandas.core.frame.DataFrame'>\n",
      "RangeIndex: 215 entries, 0 to 214\n",
      "Data columns (total 9 columns):\n",
      " #   Column      Non-Null Count  Dtype  \n",
      "---  ------      --------------  -----  \n",
      " 0   name        215 non-null    object \n",
      " 1   Gender      215 non-null    object \n",
      " 2   Eye color   215 non-null    object \n",
      " 3   Race        215 non-null    object \n",
      " 4   Hair color  215 non-null    object \n",
      " 5   Height      215 non-null    int64  \n",
      " 6   Publisher   215 non-null    object \n",
      " 7   Alignment   215 non-null    object \n",
      " 8   Weight      144 non-null    float64\n",
      "dtypes: float64(1), int64(1), object(7)\n",
      "memory usage: 15.2+ KB\n"
     ]
    }
   ],
   "source": [
    "hero_dc_csv.info()"
   ]
  },
  {
   "cell_type": "code",
   "execution_count": 20,
   "id": "54591146-f936-4af3-a3c0-c38db9395d84",
   "metadata": {},
   "outputs": [
    {
     "name": "stdout",
     "output_type": "stream",
     "text": [
      "<class 'pandas.core.frame.DataFrame'>\n",
      "RangeIndex: 215 entries, 0 to 214\n",
      "Data columns (total 9 columns):\n",
      " #   Column      Non-Null Count  Dtype  \n",
      "---  ------      --------------  -----  \n",
      " 0   name        215 non-null    object \n",
      " 1   Gender      215 non-null    object \n",
      " 2   Eye color   215 non-null    object \n",
      " 3   Race        215 non-null    object \n",
      " 4   Hair color  215 non-null    object \n",
      " 5   Height      215 non-null    int64  \n",
      " 6   Publisher   215 non-null    object \n",
      " 7   Alignment   215 non-null    object \n",
      " 8   Weight      144 non-null    float64\n",
      "dtypes: float64(1), int64(1), object(7)\n",
      "memory usage: 15.2+ KB\n"
     ]
    }
   ],
   "source": [
    "hero_dc.info()"
   ]
  },
  {
   "cell_type": "code",
   "execution_count": 21,
   "id": "76c77c80-e5cf-43e8-a3a4-255db5b44029",
   "metadata": {},
   "outputs": [],
   "source": [
    "hero_dc_pkl=pd.read_pickle('hero_dc.pkl')"
   ]
  },
  {
   "cell_type": "code",
   "execution_count": 22,
   "id": "c33ac19d-57db-4aee-887b-8d9d331d51a4",
   "metadata": {},
   "outputs": [
    {
     "name": "stdout",
     "output_type": "stream",
     "text": [
      "<class 'pandas.core.frame.DataFrame'>\n",
      "RangeIndex: 215 entries, 0 to 214\n",
      "Data columns (total 9 columns):\n",
      " #   Column      Non-Null Count  Dtype  \n",
      "---  ------      --------------  -----  \n",
      " 0   name        215 non-null    object \n",
      " 1   Gender      215 non-null    object \n",
      " 2   Eye color   215 non-null    object \n",
      " 3   Race        215 non-null    object \n",
      " 4   Hair color  215 non-null    object \n",
      " 5   Height      215 non-null    int64  \n",
      " 6   Publisher   215 non-null    object \n",
      " 7   Alignment   215 non-null    object \n",
      " 8   Weight      144 non-null    float64\n",
      "dtypes: float64(1), int64(1), object(7)\n",
      "memory usage: 15.2+ KB\n"
     ]
    }
   ],
   "source": [
    "hero_dc_pkl.info()"
   ]
  },
  {
   "cell_type": "code",
   "execution_count": 24,
   "id": "0f671b4d-345c-4e2f-a027-e7c017f7a8a1",
   "metadata": {},
   "outputs": [],
   "source": [
    "hero_marvel.to_pickle('hero_marvel.pkl')\n",
    "hero_powers.to_pickle('hero_powers.pkl')"
   ]
  },
  {
   "cell_type": "code",
   "execution_count": null,
   "id": "64f0c683-e648-4ca4-b61d-69782299b118",
   "metadata": {},
   "outputs": [],
   "source": []
  }
 ],
 "metadata": {
  "kernelspec": {
   "display_name": "Python 3 (ipykernel)",
   "language": "python",
   "name": "python3"
  },
  "language_info": {
   "codemirror_mode": {
    "name": "ipython",
    "version": 3
   },
   "file_extension": ".py",
   "mimetype": "text/x-python",
   "name": "python",
   "nbconvert_exporter": "python",
   "pygments_lexer": "ipython3",
   "version": "3.9.13"
  }
 },
 "nbformat": 4,
 "nbformat_minor": 5
}
